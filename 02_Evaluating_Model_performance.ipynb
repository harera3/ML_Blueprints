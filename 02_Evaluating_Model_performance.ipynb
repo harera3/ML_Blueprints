{
 "cells": [
  {
   "cell_type": "markdown",
   "metadata": {},
   "source": [
    "# 2. MULTIVARIARE K-NEAREST NEIGHBORS\n",
    "---"
   ]
  },
  {
   "cell_type": "markdown",
   "metadata": {},
   "source": [
    "## 1. Introducing the Data"
   ]
  },
  {
   "cell_type": "code",
   "execution_count": 1,
   "metadata": {},
   "outputs": [
    {
     "data": {
      "text/html": [
       "<div>\n",
       "<style scoped>\n",
       "    .dataframe tbody tr th:only-of-type {\n",
       "        vertical-align: middle;\n",
       "    }\n",
       "\n",
       "    .dataframe tbody tr th {\n",
       "        vertical-align: top;\n",
       "    }\n",
       "\n",
       "    .dataframe thead th {\n",
       "        text-align: right;\n",
       "    }\n",
       "</style>\n",
       "<table border=\"1\" class=\"dataframe\">\n",
       "  <thead>\n",
       "    <tr style=\"text-align: right;\">\n",
       "      <th></th>\n",
       "      <th>accommodates</th>\n",
       "      <th>bedrooms</th>\n",
       "      <th>bathrooms</th>\n",
       "      <th>beds</th>\n",
       "      <th>price</th>\n",
       "      <th>minimum_nights</th>\n",
       "      <th>maximum_nights</th>\n",
       "      <th>number_of_reviews</th>\n",
       "    </tr>\n",
       "  </thead>\n",
       "  <tbody>\n",
       "    <tr>\n",
       "      <th>0</th>\n",
       "      <td>4</td>\n",
       "      <td>1.0</td>\n",
       "      <td>1.0</td>\n",
       "      <td>2.0</td>\n",
       "      <td>$160.00</td>\n",
       "      <td>1</td>\n",
       "      <td>1125</td>\n",
       "      <td>0</td>\n",
       "    </tr>\n",
       "    <tr>\n",
       "      <th>1</th>\n",
       "      <td>6</td>\n",
       "      <td>3.0</td>\n",
       "      <td>3.0</td>\n",
       "      <td>3.0</td>\n",
       "      <td>$350.00</td>\n",
       "      <td>2</td>\n",
       "      <td>30</td>\n",
       "      <td>65</td>\n",
       "    </tr>\n",
       "    <tr>\n",
       "      <th>2</th>\n",
       "      <td>1</td>\n",
       "      <td>1.0</td>\n",
       "      <td>2.0</td>\n",
       "      <td>1.0</td>\n",
       "      <td>$50.00</td>\n",
       "      <td>2</td>\n",
       "      <td>1125</td>\n",
       "      <td>1</td>\n",
       "    </tr>\n",
       "    <tr>\n",
       "      <th>3</th>\n",
       "      <td>2</td>\n",
       "      <td>1.0</td>\n",
       "      <td>1.0</td>\n",
       "      <td>1.0</td>\n",
       "      <td>$95.00</td>\n",
       "      <td>1</td>\n",
       "      <td>1125</td>\n",
       "      <td>0</td>\n",
       "    </tr>\n",
       "    <tr>\n",
       "      <th>4</th>\n",
       "      <td>4</td>\n",
       "      <td>1.0</td>\n",
       "      <td>1.0</td>\n",
       "      <td>1.0</td>\n",
       "      <td>$50.00</td>\n",
       "      <td>7</td>\n",
       "      <td>1125</td>\n",
       "      <td>0</td>\n",
       "    </tr>\n",
       "  </tbody>\n",
       "</table>\n",
       "</div>"
      ],
      "text/plain": [
       "   accommodates  bedrooms  bathrooms  beds    price  minimum_nights  \\\n",
       "0             4       1.0        1.0   2.0  $160.00               1   \n",
       "1             6       3.0        3.0   3.0  $350.00               2   \n",
       "2             1       1.0        2.0   1.0   $50.00               2   \n",
       "3             2       1.0        1.0   1.0   $95.00               1   \n",
       "4             4       1.0        1.0   1.0   $50.00               7   \n",
       "\n",
       "   maximum_nights  number_of_reviews  \n",
       "0            1125                  0  \n",
       "1              30                 65  \n",
       "2            1125                  1  \n",
       "3            1125                  0  \n",
       "4            1125                  0  "
      ]
     },
     "execution_count": 1,
     "metadata": {},
     "output_type": "execute_result"
    }
   ],
   "source": [
    "import pandas as pd\n",
    "import numpy as np\n",
    "\n",
    "file = 'data/dc_airbnb.csv'\n",
    "cols = ['accommodates', 'bedrooms', 'bathrooms', 'beds', 'price', \n",
    "        'minimum_nights', 'maximum_nights', 'number_of_reviews']\n",
    "dc = pd.read_csv(file)\n",
    "dc = dc[cols]\n",
    "dc.head()"
   ]
  },
  {
   "cell_type": "code",
   "execution_count": 2,
   "metadata": {},
   "outputs": [
    {
     "data": {
      "text/plain": [
       "(3723, 8)"
      ]
     },
     "execution_count": 2,
     "metadata": {},
     "output_type": "execute_result"
    }
   ],
   "source": [
    "dc.shape"
   ]
  },
  {
   "cell_type": "code",
   "execution_count": 30,
   "metadata": {},
   "outputs": [
    {
     "data": {
      "text/html": [
       "<div>\n",
       "<style scoped>\n",
       "    .dataframe tbody tr th:only-of-type {\n",
       "        vertical-align: middle;\n",
       "    }\n",
       "\n",
       "    .dataframe tbody tr th {\n",
       "        vertical-align: top;\n",
       "    }\n",
       "\n",
       "    .dataframe thead th {\n",
       "        text-align: right;\n",
       "    }\n",
       "</style>\n",
       "<table border=\"1\" class=\"dataframe\">\n",
       "  <thead>\n",
       "    <tr style=\"text-align: right;\">\n",
       "      <th></th>\n",
       "      <th>accommodates</th>\n",
       "      <th>bedrooms</th>\n",
       "      <th>bathrooms</th>\n",
       "      <th>beds</th>\n",
       "      <th>minimum_nights</th>\n",
       "      <th>maximum_nights</th>\n",
       "      <th>number_of_reviews</th>\n",
       "    </tr>\n",
       "  </thead>\n",
       "  <tbody>\n",
       "    <tr>\n",
       "      <th>count</th>\n",
       "      <td>3723.000000</td>\n",
       "      <td>3702.000000</td>\n",
       "      <td>3696.000000</td>\n",
       "      <td>3712.000000</td>\n",
       "      <td>3723.000000</td>\n",
       "      <td>3.723000e+03</td>\n",
       "      <td>3723.000000</td>\n",
       "    </tr>\n",
       "    <tr>\n",
       "      <th>mean</th>\n",
       "      <td>3.195004</td>\n",
       "      <td>1.210157</td>\n",
       "      <td>1.256358</td>\n",
       "      <td>1.643319</td>\n",
       "      <td>2.250067</td>\n",
       "      <td>5.803069e+05</td>\n",
       "      <td>15.306742</td>\n",
       "    </tr>\n",
       "    <tr>\n",
       "      <th>std</th>\n",
       "      <td>2.012216</td>\n",
       "      <td>0.839851</td>\n",
       "      <td>0.585539</td>\n",
       "      <td>1.182117</td>\n",
       "      <td>3.622879</td>\n",
       "      <td>3.519552e+07</td>\n",
       "      <td>29.645586</td>\n",
       "    </tr>\n",
       "    <tr>\n",
       "      <th>min</th>\n",
       "      <td>1.000000</td>\n",
       "      <td>0.000000</td>\n",
       "      <td>0.000000</td>\n",
       "      <td>1.000000</td>\n",
       "      <td>1.000000</td>\n",
       "      <td>1.000000e+00</td>\n",
       "      <td>0.000000</td>\n",
       "    </tr>\n",
       "    <tr>\n",
       "      <th>25%</th>\n",
       "      <td>2.000000</td>\n",
       "      <td>1.000000</td>\n",
       "      <td>1.000000</td>\n",
       "      <td>1.000000</td>\n",
       "      <td>1.000000</td>\n",
       "      <td>1.200000e+02</td>\n",
       "      <td>1.000000</td>\n",
       "    </tr>\n",
       "    <tr>\n",
       "      <th>50%</th>\n",
       "      <td>2.000000</td>\n",
       "      <td>1.000000</td>\n",
       "      <td>1.000000</td>\n",
       "      <td>1.000000</td>\n",
       "      <td>2.000000</td>\n",
       "      <td>1.125000e+03</td>\n",
       "      <td>4.000000</td>\n",
       "    </tr>\n",
       "    <tr>\n",
       "      <th>75%</th>\n",
       "      <td>4.000000</td>\n",
       "      <td>1.000000</td>\n",
       "      <td>1.000000</td>\n",
       "      <td>2.000000</td>\n",
       "      <td>3.000000</td>\n",
       "      <td>1.125000e+03</td>\n",
       "      <td>16.000000</td>\n",
       "    </tr>\n",
       "    <tr>\n",
       "      <th>max</th>\n",
       "      <td>16.000000</td>\n",
       "      <td>10.000000</td>\n",
       "      <td>8.000000</td>\n",
       "      <td>16.000000</td>\n",
       "      <td>180.000000</td>\n",
       "      <td>2.147484e+09</td>\n",
       "      <td>362.000000</td>\n",
       "    </tr>\n",
       "  </tbody>\n",
       "</table>\n",
       "</div>"
      ],
      "text/plain": [
       "       accommodates     bedrooms    bathrooms         beds  minimum_nights  \\\n",
       "count   3723.000000  3702.000000  3696.000000  3712.000000     3723.000000   \n",
       "mean       3.195004     1.210157     1.256358     1.643319        2.250067   \n",
       "std        2.012216     0.839851     0.585539     1.182117        3.622879   \n",
       "min        1.000000     0.000000     0.000000     1.000000        1.000000   \n",
       "25%        2.000000     1.000000     1.000000     1.000000        1.000000   \n",
       "50%        2.000000     1.000000     1.000000     1.000000        2.000000   \n",
       "75%        4.000000     1.000000     1.000000     2.000000        3.000000   \n",
       "max       16.000000    10.000000     8.000000    16.000000      180.000000   \n",
       "\n",
       "       maximum_nights  number_of_reviews  \n",
       "count    3.723000e+03        3723.000000  \n",
       "mean     5.803069e+05          15.306742  \n",
       "std      3.519552e+07          29.645586  \n",
       "min      1.000000e+00           0.000000  \n",
       "25%      1.200000e+02           1.000000  \n",
       "50%      1.125000e+03           4.000000  \n",
       "75%      1.125000e+03          16.000000  \n",
       "max      2.147484e+09         362.000000  "
      ]
     },
     "execution_count": 30,
     "metadata": {},
     "output_type": "execute_result"
    }
   ],
   "source": [
    "dc.describe()"
   ]
  },
  {
   "cell_type": "code",
   "execution_count": 3,
   "metadata": {},
   "outputs": [
    {
     "data": {
      "text/plain": [
       "accommodates           int64\n",
       "bedrooms             float64\n",
       "bathrooms            float64\n",
       "beds                 float64\n",
       "price                 object\n",
       "minimum_nights         int64\n",
       "maximum_nights         int64\n",
       "number_of_reviews      int64\n",
       "dtype: object"
      ]
     },
     "execution_count": 3,
     "metadata": {},
     "output_type": "execute_result"
    }
   ],
   "source": [
    "dc.dtypes"
   ]
  },
  {
   "cell_type": "markdown",
   "metadata": {},
   "source": [
    "## 2. Train-Test Splitting"
   ]
  },
  {
   "cell_type": "code",
   "execution_count": 26,
   "metadata": {},
   "outputs": [
    {
     "data": {
      "text/plain": [
       "((2978, 8), (745, 8))"
      ]
     },
     "execution_count": 26,
     "metadata": {},
     "output_type": "execute_result"
    }
   ],
   "source": [
    "from sklearn.model_selection import train_test_split\n",
    "\n",
    "train, test = train_test_split(dc, test_size=0.2, random_state=42)\n",
    "train.shape, test.shape"
   ]
  },
  {
   "cell_type": "markdown",
   "metadata": {},
   "source": [
    "## 3. Cleaning Price Column"
   ]
  },
  {
   "cell_type": "code",
   "execution_count": 27,
   "metadata": {},
   "outputs": [
    {
     "data": {
      "text/html": [
       "<div>\n",
       "<style scoped>\n",
       "    .dataframe tbody tr th:only-of-type {\n",
       "        vertical-align: middle;\n",
       "    }\n",
       "\n",
       "    .dataframe tbody tr th {\n",
       "        vertical-align: top;\n",
       "    }\n",
       "\n",
       "    .dataframe thead th {\n",
       "        text-align: right;\n",
       "    }\n",
       "</style>\n",
       "<table border=\"1\" class=\"dataframe\">\n",
       "  <thead>\n",
       "    <tr style=\"text-align: right;\">\n",
       "      <th></th>\n",
       "      <th>accommodates</th>\n",
       "      <th>bedrooms</th>\n",
       "      <th>bathrooms</th>\n",
       "      <th>beds</th>\n",
       "      <th>price</th>\n",
       "      <th>minimum_nights</th>\n",
       "      <th>maximum_nights</th>\n",
       "      <th>number_of_reviews</th>\n",
       "    </tr>\n",
       "  </thead>\n",
       "  <tbody>\n",
       "    <tr>\n",
       "      <th>2196</th>\n",
       "      <td>4</td>\n",
       "      <td>1.0</td>\n",
       "      <td>1.0</td>\n",
       "      <td>2.0</td>\n",
       "      <td>129.0</td>\n",
       "      <td>2</td>\n",
       "      <td>1125</td>\n",
       "      <td>15</td>\n",
       "    </tr>\n",
       "    <tr>\n",
       "      <th>209</th>\n",
       "      <td>4</td>\n",
       "      <td>1.0</td>\n",
       "      <td>1.0</td>\n",
       "      <td>1.0</td>\n",
       "      <td>295.0</td>\n",
       "      <td>1</td>\n",
       "      <td>1125</td>\n",
       "      <td>20</td>\n",
       "    </tr>\n",
       "    <tr>\n",
       "      <th>3368</th>\n",
       "      <td>2</td>\n",
       "      <td>1.0</td>\n",
       "      <td>1.0</td>\n",
       "      <td>1.0</td>\n",
       "      <td>140.0</td>\n",
       "      <td>1</td>\n",
       "      <td>1125</td>\n",
       "      <td>9</td>\n",
       "    </tr>\n",
       "    <tr>\n",
       "      <th>2771</th>\n",
       "      <td>5</td>\n",
       "      <td>2.0</td>\n",
       "      <td>2.0</td>\n",
       "      <td>3.0</td>\n",
       "      <td>217.0</td>\n",
       "      <td>3</td>\n",
       "      <td>730</td>\n",
       "      <td>19</td>\n",
       "    </tr>\n",
       "    <tr>\n",
       "      <th>1588</th>\n",
       "      <td>6</td>\n",
       "      <td>2.0</td>\n",
       "      <td>1.0</td>\n",
       "      <td>2.0</td>\n",
       "      <td>150.0</td>\n",
       "      <td>2</td>\n",
       "      <td>35</td>\n",
       "      <td>15</td>\n",
       "    </tr>\n",
       "  </tbody>\n",
       "</table>\n",
       "</div>"
      ],
      "text/plain": [
       "      accommodates  bedrooms  bathrooms  beds  price  minimum_nights  \\\n",
       "2196             4       1.0        1.0   2.0  129.0               2   \n",
       "209              4       1.0        1.0   1.0  295.0               1   \n",
       "3368             2       1.0        1.0   1.0  140.0               1   \n",
       "2771             5       2.0        2.0   3.0  217.0               3   \n",
       "1588             6       2.0        1.0   2.0  150.0               2   \n",
       "\n",
       "      maximum_nights  number_of_reviews  \n",
       "2196            1125                 15  \n",
       "209             1125                 20  \n",
       "3368            1125                  9  \n",
       "2771             730                 19  \n",
       "1588              35                 15  "
      ]
     },
     "execution_count": 27,
     "metadata": {},
     "output_type": "execute_result"
    }
   ],
   "source": [
    "from sklearn.base import BaseEstimator, TransformerMixin\n",
    "\n",
    "class PriceCleaner(BaseEstimator, TransformerMixin):    \n",
    "    def __init__(self):\n",
    "        self  \n",
    "    def fit(self, df, y = None):               \n",
    "        return self\n",
    "    def transform(self, df):               \n",
    "        df = df.copy()\n",
    "        no_comma = df['price'].str.replace(',', '')\n",
    "        no_dollar = no_comma.str.replace('$', '')\n",
    "        df['price'] = no_dollar.astype('float')\n",
    "        return df\n",
    "    \n",
    "pricer = PriceCleaner()\n",
    "train_clean = pricer.transform(train)\n",
    "train_clean.head()"
   ]
  },
  {
   "cell_type": "code",
   "execution_count": 28,
   "metadata": {},
   "outputs": [
    {
     "data": {
      "text/html": [
       "<div>\n",
       "<style scoped>\n",
       "    .dataframe tbody tr th:only-of-type {\n",
       "        vertical-align: middle;\n",
       "    }\n",
       "\n",
       "    .dataframe tbody tr th {\n",
       "        vertical-align: top;\n",
       "    }\n",
       "\n",
       "    .dataframe thead th {\n",
       "        text-align: right;\n",
       "    }\n",
       "</style>\n",
       "<table border=\"1\" class=\"dataframe\">\n",
       "  <thead>\n",
       "    <tr style=\"text-align: right;\">\n",
       "      <th></th>\n",
       "      <th>accommodates</th>\n",
       "      <th>bedrooms</th>\n",
       "      <th>bathrooms</th>\n",
       "      <th>beds</th>\n",
       "      <th>price</th>\n",
       "      <th>minimum_nights</th>\n",
       "      <th>maximum_nights</th>\n",
       "      <th>number_of_reviews</th>\n",
       "    </tr>\n",
       "  </thead>\n",
       "  <tbody>\n",
       "    <tr>\n",
       "      <th>count</th>\n",
       "      <td>2978.000000</td>\n",
       "      <td>2957.000000</td>\n",
       "      <td>2957.000000</td>\n",
       "      <td>2969.000000</td>\n",
       "      <td>2978.000000</td>\n",
       "      <td>2978.000000</td>\n",
       "      <td>2.978000e+03</td>\n",
       "      <td>2978.000000</td>\n",
       "    </tr>\n",
       "    <tr>\n",
       "      <th>mean</th>\n",
       "      <td>3.203828</td>\n",
       "      <td>1.210348</td>\n",
       "      <td>1.256848</td>\n",
       "      <td>1.640283</td>\n",
       "      <td>150.057085</td>\n",
       "      <td>2.291807</td>\n",
       "      <td>4.172699e+03</td>\n",
       "      <td>15.553056</td>\n",
       "    </tr>\n",
       "    <tr>\n",
       "      <th>std</th>\n",
       "      <td>2.028788</td>\n",
       "      <td>0.841491</td>\n",
       "      <td>0.586460</td>\n",
       "      <td>1.156521</td>\n",
       "      <td>146.110268</td>\n",
       "      <td>3.975210</td>\n",
       "      <td>1.832421e+05</td>\n",
       "      <td>29.587263</td>\n",
       "    </tr>\n",
       "    <tr>\n",
       "      <th>min</th>\n",
       "      <td>1.000000</td>\n",
       "      <td>0.000000</td>\n",
       "      <td>0.000000</td>\n",
       "      <td>1.000000</td>\n",
       "      <td>20.000000</td>\n",
       "      <td>1.000000</td>\n",
       "      <td>1.000000e+00</td>\n",
       "      <td>0.000000</td>\n",
       "    </tr>\n",
       "    <tr>\n",
       "      <th>25%</th>\n",
       "      <td>2.000000</td>\n",
       "      <td>1.000000</td>\n",
       "      <td>1.000000</td>\n",
       "      <td>1.000000</td>\n",
       "      <td>85.000000</td>\n",
       "      <td>1.000000</td>\n",
       "      <td>1.200000e+02</td>\n",
       "      <td>1.000000</td>\n",
       "    </tr>\n",
       "    <tr>\n",
       "      <th>50%</th>\n",
       "      <td>2.000000</td>\n",
       "      <td>1.000000</td>\n",
       "      <td>1.000000</td>\n",
       "      <td>1.000000</td>\n",
       "      <td>115.000000</td>\n",
       "      <td>2.000000</td>\n",
       "      <td>1.125000e+03</td>\n",
       "      <td>4.000000</td>\n",
       "    </tr>\n",
       "    <tr>\n",
       "      <th>75%</th>\n",
       "      <td>4.000000</td>\n",
       "      <td>1.000000</td>\n",
       "      <td>1.000000</td>\n",
       "      <td>2.000000</td>\n",
       "      <td>165.000000</td>\n",
       "      <td>3.000000</td>\n",
       "      <td>1.125000e+03</td>\n",
       "      <td>17.000000</td>\n",
       "    </tr>\n",
       "    <tr>\n",
       "      <th>max</th>\n",
       "      <td>16.000000</td>\n",
       "      <td>10.000000</td>\n",
       "      <td>8.000000</td>\n",
       "      <td>16.000000</td>\n",
       "      <td>2822.000000</td>\n",
       "      <td>180.000000</td>\n",
       "      <td>9.999999e+06</td>\n",
       "      <td>338.000000</td>\n",
       "    </tr>\n",
       "  </tbody>\n",
       "</table>\n",
       "</div>"
      ],
      "text/plain": [
       "       accommodates     bedrooms    bathrooms         beds        price  \\\n",
       "count   2978.000000  2957.000000  2957.000000  2969.000000  2978.000000   \n",
       "mean       3.203828     1.210348     1.256848     1.640283   150.057085   \n",
       "std        2.028788     0.841491     0.586460     1.156521   146.110268   \n",
       "min        1.000000     0.000000     0.000000     1.000000    20.000000   \n",
       "25%        2.000000     1.000000     1.000000     1.000000    85.000000   \n",
       "50%        2.000000     1.000000     1.000000     1.000000   115.000000   \n",
       "75%        4.000000     1.000000     1.000000     2.000000   165.000000   \n",
       "max       16.000000    10.000000     8.000000    16.000000  2822.000000   \n",
       "\n",
       "       minimum_nights  maximum_nights  number_of_reviews  \n",
       "count     2978.000000    2.978000e+03        2978.000000  \n",
       "mean         2.291807    4.172699e+03          15.553056  \n",
       "std          3.975210    1.832421e+05          29.587263  \n",
       "min          1.000000    1.000000e+00           0.000000  \n",
       "25%          1.000000    1.200000e+02           1.000000  \n",
       "50%          2.000000    1.125000e+03           4.000000  \n",
       "75%          3.000000    1.125000e+03          17.000000  \n",
       "max        180.000000    9.999999e+06         338.000000  "
      ]
     },
     "execution_count": 28,
     "metadata": {},
     "output_type": "execute_result"
    }
   ],
   "source": [
    "train_clean.describe()"
   ]
  },
  {
   "cell_type": "code",
   "execution_count": 29,
   "metadata": {},
   "outputs": [
    {
     "data": {
      "text/plain": [
       "dtype('float64')"
      ]
     },
     "execution_count": 29,
     "metadata": {},
     "output_type": "execute_result"
    }
   ],
   "source": [
    "train_clean['price'].dtypes"
   ]
  },
  {
   "cell_type": "markdown",
   "metadata": {},
   "source": [
    "## 4. Imputing Missing Data"
   ]
  },
  {
   "cell_type": "code",
   "execution_count": 44,
   "metadata": {},
   "outputs": [
    {
     "data": {
      "text/plain": [
       "accommodates         0.000000\n",
       "price                0.000000\n",
       "minimum_nights       0.000000\n",
       "maximum_nights       0.000000\n",
       "number_of_reviews    0.000000\n",
       "beds                 0.003022\n",
       "bedrooms             0.007052\n",
       "bathrooms            0.007052\n",
       "dtype: float64"
      ]
     },
     "execution_count": 44,
     "metadata": {},
     "output_type": "execute_result"
    }
   ],
   "source": [
    "train_clean.isnull().mean().sort_values(ascending=True)"
   ]
  },
  {
   "cell_type": "code",
   "execution_count": 45,
   "metadata": {},
   "outputs": [
    {
     "data": {
      "text/plain": [
       "0    0.0\n",
       "1    0.0\n",
       "2    0.0\n",
       "3    0.0\n",
       "4    0.0\n",
       "5    0.0\n",
       "6    0.0\n",
       "7    0.0\n",
       "dtype: float64"
      ]
     },
     "execution_count": 45,
     "metadata": {},
     "output_type": "execute_result"
    }
   ],
   "source": [
    "from sklearn.impute import SimpleImputer\n",
    "\n",
    "imputer = SimpleImputer(strategy='median')\n",
    "imputer.fit(train_clean)\n",
    "train_imputed = imputer.transform(train_clean)\n",
    "pd.DataFrame(train_imputed).isnull().mean()"
   ]
  },
  {
   "cell_type": "markdown",
   "metadata": {},
   "source": [
    "## 4. Data Standardization"
   ]
  },
  {
   "cell_type": "code",
   "execution_count": 46,
   "metadata": {},
   "outputs": [
    {
     "data": {
      "text/html": [
       "<div>\n",
       "<style scoped>\n",
       "    .dataframe tbody tr th:only-of-type {\n",
       "        vertical-align: middle;\n",
       "    }\n",
       "\n",
       "    .dataframe tbody tr th {\n",
       "        vertical-align: top;\n",
       "    }\n",
       "\n",
       "    .dataframe thead th {\n",
       "        text-align: right;\n",
       "    }\n",
       "</style>\n",
       "<table border=\"1\" class=\"dataframe\">\n",
       "  <thead>\n",
       "    <tr style=\"text-align: right;\">\n",
       "      <th></th>\n",
       "      <th>accommodates</th>\n",
       "      <th>bedrooms</th>\n",
       "      <th>bathrooms</th>\n",
       "      <th>beds</th>\n",
       "      <th>price</th>\n",
       "      <th>minimum_nights</th>\n",
       "      <th>maximum_nights</th>\n",
       "      <th>number_of_reviews</th>\n",
       "    </tr>\n",
       "  </thead>\n",
       "  <tbody>\n",
       "    <tr>\n",
       "      <th>0</th>\n",
       "      <td>0.392503</td>\n",
       "      <td>-0.249075</td>\n",
       "      <td>-0.436195</td>\n",
       "      <td>0.313088</td>\n",
       "      <td>-0.144142</td>\n",
       "      <td>-0.073419</td>\n",
       "      <td>-0.016635</td>\n",
       "      <td>-0.018695</td>\n",
       "    </tr>\n",
       "    <tr>\n",
       "      <th>1</th>\n",
       "      <td>0.392503</td>\n",
       "      <td>-0.249075</td>\n",
       "      <td>-0.436195</td>\n",
       "      <td>-0.552628</td>\n",
       "      <td>0.992177</td>\n",
       "      <td>-0.325020</td>\n",
       "      <td>-0.016635</td>\n",
       "      <td>0.150325</td>\n",
       "    </tr>\n",
       "    <tr>\n",
       "      <th>2</th>\n",
       "      <td>-0.593473</td>\n",
       "      <td>-0.249075</td>\n",
       "      <td>-0.436195</td>\n",
       "      <td>-0.552628</td>\n",
       "      <td>-0.068844</td>\n",
       "      <td>-0.325020</td>\n",
       "      <td>-0.016635</td>\n",
       "      <td>-0.221520</td>\n",
       "    </tr>\n",
       "    <tr>\n",
       "      <th>3</th>\n",
       "      <td>0.885491</td>\n",
       "      <td>0.943443</td>\n",
       "      <td>1.274127</td>\n",
       "      <td>1.178805</td>\n",
       "      <td>0.458244</td>\n",
       "      <td>0.178182</td>\n",
       "      <td>-0.018791</td>\n",
       "      <td>0.116521</td>\n",
       "    </tr>\n",
       "    <tr>\n",
       "      <th>4</th>\n",
       "      <td>1.378479</td>\n",
       "      <td>0.943443</td>\n",
       "      <td>-0.436195</td>\n",
       "      <td>0.313088</td>\n",
       "      <td>-0.000391</td>\n",
       "      <td>-0.073419</td>\n",
       "      <td>-0.022584</td>\n",
       "      <td>-0.018695</td>\n",
       "    </tr>\n",
       "  </tbody>\n",
       "</table>\n",
       "</div>"
      ],
      "text/plain": [
       "   accommodates  bedrooms  bathrooms      beds     price  minimum_nights  \\\n",
       "0      0.392503 -0.249075  -0.436195  0.313088 -0.144142       -0.073419   \n",
       "1      0.392503 -0.249075  -0.436195 -0.552628  0.992177       -0.325020   \n",
       "2     -0.593473 -0.249075  -0.436195 -0.552628 -0.068844       -0.325020   \n",
       "3      0.885491  0.943443   1.274127  1.178805  0.458244        0.178182   \n",
       "4      1.378479  0.943443  -0.436195  0.313088 -0.000391       -0.073419   \n",
       "\n",
       "   maximum_nights  number_of_reviews  \n",
       "0       -0.016635          -0.018695  \n",
       "1       -0.016635           0.150325  \n",
       "2       -0.016635          -0.221520  \n",
       "3       -0.018791           0.116521  \n",
       "4       -0.022584          -0.018695  "
      ]
     },
     "execution_count": 46,
     "metadata": {},
     "output_type": "execute_result"
    }
   ],
   "source": [
    "from sklearn.preprocessing import StandardScaler\n",
    "\n",
    "scaler = StandardScaler()\n",
    "train_scaled = scaler.fit_transform(train_imputed)\n",
    "train_scaled = pd.DataFrame(train_scaled)\n",
    "train_scaled.columns = cols\n",
    "train_scaled.head()"
   ]
  },
  {
   "cell_type": "code",
   "execution_count": 47,
   "metadata": {},
   "outputs": [
    {
     "data": {
      "text/plain": [
       "array([3.20382807e+00, 1.20886501e+00, 1.25503694e+00, 1.63834788e+00,\n",
       "       1.50057085e+02, 2.29180658e+00, 4.17269879e+03, 1.55530557e+01])"
      ]
     },
     "execution_count": 47,
     "metadata": {},
     "output_type": "execute_result"
    }
   ],
   "source": [
    "scaler.mean_"
   ]
  },
  {
   "cell_type": "code",
   "execution_count": 48,
   "metadata": {},
   "outputs": [
    {
     "data": {
      "text/plain": [
       "array([2.02844748e+00, 8.38561475e-01, 5.84685184e-01, 1.15511254e+00,\n",
       "       1.46085734e+02, 3.97454206e+00, 1.83211282e+05, 2.95822953e+01])"
      ]
     },
     "execution_count": 48,
     "metadata": {},
     "output_type": "execute_result"
    }
   ],
   "source": [
    "scaler.scale_"
   ]
  },
  {
   "cell_type": "code",
   "execution_count": 49,
   "metadata": {},
   "outputs": [
    {
     "data": {
      "text/plain": [
       "2978"
      ]
     },
     "execution_count": 49,
     "metadata": {},
     "output_type": "execute_result"
    }
   ],
   "source": [
    "scaler.n_samples_seen_"
   ]
  },
  {
   "cell_type": "code",
   "execution_count": 50,
   "metadata": {},
   "outputs": [
    {
     "data": {
      "text/html": [
       "<div>\n",
       "<style scoped>\n",
       "    .dataframe tbody tr th:only-of-type {\n",
       "        vertical-align: middle;\n",
       "    }\n",
       "\n",
       "    .dataframe tbody tr th {\n",
       "        vertical-align: top;\n",
       "    }\n",
       "\n",
       "    .dataframe thead th {\n",
       "        text-align: right;\n",
       "    }\n",
       "</style>\n",
       "<table border=\"1\" class=\"dataframe\">\n",
       "  <thead>\n",
       "    <tr style=\"text-align: right;\">\n",
       "      <th></th>\n",
       "      <th>accommodates</th>\n",
       "      <th>bedrooms</th>\n",
       "      <th>bathrooms</th>\n",
       "      <th>beds</th>\n",
       "      <th>price</th>\n",
       "      <th>minimum_nights</th>\n",
       "      <th>maximum_nights</th>\n",
       "      <th>number_of_reviews</th>\n",
       "    </tr>\n",
       "  </thead>\n",
       "  <tbody>\n",
       "    <tr>\n",
       "      <th>count</th>\n",
       "      <td>2.978000e+03</td>\n",
       "      <td>2.978000e+03</td>\n",
       "      <td>2.978000e+03</td>\n",
       "      <td>2.978000e+03</td>\n",
       "      <td>2.978000e+03</td>\n",
       "      <td>2.978000e+03</td>\n",
       "      <td>2.978000e+03</td>\n",
       "      <td>2.978000e+03</td>\n",
       "    </tr>\n",
       "    <tr>\n",
       "      <th>mean</th>\n",
       "      <td>9.081609e-17</td>\n",
       "      <td>-4.332032e-17</td>\n",
       "      <td>1.521431e-16</td>\n",
       "      <td>9.357488e-17</td>\n",
       "      <td>8.240927e-17</td>\n",
       "      <td>2.654768e-16</td>\n",
       "      <td>-4.012605e-16</td>\n",
       "      <td>-4.615366e-17</td>\n",
       "    </tr>\n",
       "    <tr>\n",
       "      <th>std</th>\n",
       "      <td>1.000168e+00</td>\n",
       "      <td>1.000168e+00</td>\n",
       "      <td>1.000168e+00</td>\n",
       "      <td>1.000168e+00</td>\n",
       "      <td>1.000168e+00</td>\n",
       "      <td>1.000168e+00</td>\n",
       "      <td>1.000168e+00</td>\n",
       "      <td>1.000168e+00</td>\n",
       "    </tr>\n",
       "    <tr>\n",
       "      <th>min</th>\n",
       "      <td>-1.086461e+00</td>\n",
       "      <td>-1.441594e+00</td>\n",
       "      <td>-2.146517e+00</td>\n",
       "      <td>-5.526283e-01</td>\n",
       "      <td>-8.902792e-01</td>\n",
       "      <td>-3.250202e-01</td>\n",
       "      <td>-2.276988e-02</td>\n",
       "      <td>-5.257555e-01</td>\n",
       "    </tr>\n",
       "    <tr>\n",
       "      <th>25%</th>\n",
       "      <td>-5.934726e-01</td>\n",
       "      <td>-2.490754e-01</td>\n",
       "      <td>-4.361953e-01</td>\n",
       "      <td>-5.526283e-01</td>\n",
       "      <td>-4.453350e-01</td>\n",
       "      <td>-3.250202e-01</td>\n",
       "      <td>-2.212036e-02</td>\n",
       "      <td>-4.919515e-01</td>\n",
       "    </tr>\n",
       "    <tr>\n",
       "      <th>50%</th>\n",
       "      <td>-5.934726e-01</td>\n",
       "      <td>-2.490754e-01</td>\n",
       "      <td>-4.361953e-01</td>\n",
       "      <td>-5.526283e-01</td>\n",
       "      <td>-2.399761e-01</td>\n",
       "      <td>-7.341892e-02</td>\n",
       "      <td>-1.663489e-02</td>\n",
       "      <td>-3.905395e-01</td>\n",
       "    </tr>\n",
       "    <tr>\n",
       "      <th>75%</th>\n",
       "      <td>3.925031e-01</td>\n",
       "      <td>-2.490754e-01</td>\n",
       "      <td>-4.361953e-01</td>\n",
       "      <td>3.130882e-01</td>\n",
       "      <td>1.022887e-01</td>\n",
       "      <td>1.781824e-01</td>\n",
       "      <td>-1.663489e-02</td>\n",
       "      <td>4.891251e-02</td>\n",
       "    </tr>\n",
       "    <tr>\n",
       "      <th>max</th>\n",
       "      <td>6.308358e+00</td>\n",
       "      <td>1.048359e+01</td>\n",
       "      <td>1.153606e+01</td>\n",
       "      <td>1.243312e+01</td>\n",
       "      <td>1.829024e+01</td>\n",
       "      <td>4.471161e+01</td>\n",
       "      <td>5.455901e+01</td>\n",
       "      <td>1.090000e+01</td>\n",
       "    </tr>\n",
       "  </tbody>\n",
       "</table>\n",
       "</div>"
      ],
      "text/plain": [
       "       accommodates      bedrooms     bathrooms          beds         price  \\\n",
       "count  2.978000e+03  2.978000e+03  2.978000e+03  2.978000e+03  2.978000e+03   \n",
       "mean   9.081609e-17 -4.332032e-17  1.521431e-16  9.357488e-17  8.240927e-17   \n",
       "std    1.000168e+00  1.000168e+00  1.000168e+00  1.000168e+00  1.000168e+00   \n",
       "min   -1.086461e+00 -1.441594e+00 -2.146517e+00 -5.526283e-01 -8.902792e-01   \n",
       "25%   -5.934726e-01 -2.490754e-01 -4.361953e-01 -5.526283e-01 -4.453350e-01   \n",
       "50%   -5.934726e-01 -2.490754e-01 -4.361953e-01 -5.526283e-01 -2.399761e-01   \n",
       "75%    3.925031e-01 -2.490754e-01 -4.361953e-01  3.130882e-01  1.022887e-01   \n",
       "max    6.308358e+00  1.048359e+01  1.153606e+01  1.243312e+01  1.829024e+01   \n",
       "\n",
       "       minimum_nights  maximum_nights  number_of_reviews  \n",
       "count    2.978000e+03    2.978000e+03       2.978000e+03  \n",
       "mean     2.654768e-16   -4.012605e-16      -4.615366e-17  \n",
       "std      1.000168e+00    1.000168e+00       1.000168e+00  \n",
       "min     -3.250202e-01   -2.276988e-02      -5.257555e-01  \n",
       "25%     -3.250202e-01   -2.212036e-02      -4.919515e-01  \n",
       "50%     -7.341892e-02   -1.663489e-02      -3.905395e-01  \n",
       "75%      1.781824e-01   -1.663489e-02       4.891251e-02  \n",
       "max      4.471161e+01    5.455901e+01       1.090000e+01  "
      ]
     },
     "execution_count": 50,
     "metadata": {},
     "output_type": "execute_result"
    }
   ],
   "source": [
    "train_scaled.describe()"
   ]
  },
  {
   "cell_type": "markdown",
   "metadata": {},
   "source": [
    "## 5. Training KNN on All Features"
   ]
  },
  {
   "cell_type": "code",
   "execution_count": 52,
   "metadata": {},
   "outputs": [
    {
     "name": "stdout",
     "output_type": "stream",
     "text": [
      "MSE_train: 0.4822721804508388\n",
      "RMSE_train: 0.6944581920107493\n"
     ]
    }
   ],
   "source": [
    "from sklearn.neighbors import KNeighborsRegressor\n",
    "from sklearn.metrics import mean_squared_error\n",
    "\n",
    "X_train = train_scaled.drop('price', axis=1)\n",
    "y_train = train_scaled['price']\n",
    "\n",
    "knn = KNeighborsRegressor(algorithm='brute')\n",
    "knn.fit(X_train, y_train)\n",
    "y_pred = knn.predict(X_train)\n",
    "mse = mean_squared_error(y_train, y_pred)\n",
    "rmse = np.sqrt(mse)\n",
    "print('MSE_train:', mse)\n",
    "print('RMSE_train:', rmse)"
   ]
  },
  {
   "cell_type": "code",
   "execution_count": 37,
   "metadata": {},
   "outputs": [
    {
     "data": {
      "text/html": [
       "<div>\n",
       "<style scoped>\n",
       "    .dataframe tbody tr th:only-of-type {\n",
       "        vertical-align: middle;\n",
       "    }\n",
       "\n",
       "    .dataframe tbody tr th {\n",
       "        vertical-align: top;\n",
       "    }\n",
       "\n",
       "    .dataframe thead th {\n",
       "        text-align: right;\n",
       "    }\n",
       "</style>\n",
       "<table border=\"1\" class=\"dataframe\">\n",
       "  <thead>\n",
       "    <tr style=\"text-align: right;\">\n",
       "      <th></th>\n",
       "      <th>accommodates</th>\n",
       "      <th>bedrooms</th>\n",
       "      <th>bathrooms</th>\n",
       "      <th>beds</th>\n",
       "      <th>minimum_nights</th>\n",
       "      <th>maximum_nights</th>\n",
       "      <th>number_of_reviews</th>\n",
       "    </tr>\n",
       "  </thead>\n",
       "  <tbody>\n",
       "    <tr>\n",
       "      <th>0</th>\n",
       "      <td>0.392503</td>\n",
       "      <td>-0.250013</td>\n",
       "      <td>-0.438038</td>\n",
       "      <td>0.311086</td>\n",
       "      <td>-0.073419</td>\n",
       "      <td>-0.016635</td>\n",
       "      <td>-0.018695</td>\n",
       "    </tr>\n",
       "    <tr>\n",
       "      <th>1</th>\n",
       "      <td>0.392503</td>\n",
       "      <td>-0.250013</td>\n",
       "      <td>-0.438038</td>\n",
       "      <td>-0.553722</td>\n",
       "      <td>-0.325020</td>\n",
       "      <td>-0.016635</td>\n",
       "      <td>0.150325</td>\n",
       "    </tr>\n",
       "    <tr>\n",
       "      <th>2</th>\n",
       "      <td>-0.593473</td>\n",
       "      <td>-0.250013</td>\n",
       "      <td>-0.438038</td>\n",
       "      <td>-0.553722</td>\n",
       "      <td>-0.325020</td>\n",
       "      <td>-0.016635</td>\n",
       "      <td>-0.221520</td>\n",
       "    </tr>\n",
       "    <tr>\n",
       "      <th>3</th>\n",
       "      <td>0.885491</td>\n",
       "      <td>0.938555</td>\n",
       "      <td>1.267396</td>\n",
       "      <td>1.175894</td>\n",
       "      <td>0.178182</td>\n",
       "      <td>-0.018791</td>\n",
       "      <td>0.116521</td>\n",
       "    </tr>\n",
       "    <tr>\n",
       "      <th>4</th>\n",
       "      <td>1.378479</td>\n",
       "      <td>0.938555</td>\n",
       "      <td>-0.438038</td>\n",
       "      <td>0.311086</td>\n",
       "      <td>-0.073419</td>\n",
       "      <td>-0.022584</td>\n",
       "      <td>-0.018695</td>\n",
       "    </tr>\n",
       "  </tbody>\n",
       "</table>\n",
       "</div>"
      ],
      "text/plain": [
       "   accommodates  bedrooms  bathrooms      beds  minimum_nights  \\\n",
       "0      0.392503 -0.250013  -0.438038  0.311086       -0.073419   \n",
       "1      0.392503 -0.250013  -0.438038 -0.553722       -0.325020   \n",
       "2     -0.593473 -0.250013  -0.438038 -0.553722       -0.325020   \n",
       "3      0.885491  0.938555   1.267396  1.175894        0.178182   \n",
       "4      1.378479  0.938555  -0.438038  0.311086       -0.073419   \n",
       "\n",
       "   maximum_nights  number_of_reviews  \n",
       "0       -0.016635          -0.018695  \n",
       "1       -0.016635           0.150325  \n",
       "2       -0.016635          -0.221520  \n",
       "3       -0.018791           0.116521  \n",
       "4       -0.022584          -0.018695  "
      ]
     },
     "execution_count": 37,
     "metadata": {},
     "output_type": "execute_result"
    }
   ],
   "source": [
    "\n",
    "test_clean = pricer.transform(train)\n",
    "train_clean.head()"
   ]
  },
  {
   "cell_type": "code",
   "execution_count": 38,
   "metadata": {},
   "outputs": [
    {
     "data": {
      "text/plain": [
       "0   -0.144142\n",
       "1    0.992177\n",
       "2   -0.068844\n",
       "3    0.458244\n",
       "4   -0.000391\n",
       "Name: price, dtype: float64"
      ]
     },
     "execution_count": 38,
     "metadata": {},
     "output_type": "execute_result"
    }
   ],
   "source": [
    "y_train.head()"
   ]
  },
  {
   "cell_type": "code",
   "execution_count": 39,
   "metadata": {},
   "outputs": [
    {
     "data": {
      "text/plain": [
       "((2978, 7), (2978,))"
      ]
     },
     "execution_count": 39,
     "metadata": {},
     "output_type": "execute_result"
    }
   ],
   "source": [
    "X_train.shape, y_train.shape"
   ]
  },
  {
   "cell_type": "code",
   "execution_count": null,
   "metadata": {},
   "outputs": [],
   "source": []
  }
 ],
 "metadata": {
  "kernelspec": {
   "display_name": "Python 3",
   "language": "python",
   "name": "python3"
  },
  "language_info": {
   "codemirror_mode": {
    "name": "ipython",
    "version": 3
   },
   "file_extension": ".py",
   "mimetype": "text/x-python",
   "name": "python",
   "nbconvert_exporter": "python",
   "pygments_lexer": "ipython3",
   "version": "3.7.7"
  }
 },
 "nbformat": 4,
 "nbformat_minor": 4
}
