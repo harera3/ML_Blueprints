{
 "cells": [
  {
   "cell_type": "markdown",
   "metadata": {},
   "source": [
    "# 7. AMES HOUSING: FEATURE SELECTION\n",
    "---"
   ]
  },
  {
   "cell_type": "markdown",
   "metadata": {},
   "source": [
    "In this chapter, we'll explore how to use correlation between features and the target column, correlation between features, and variance of features to select features. We'll specifically focus on selecting from feature columns that don't have any missing values or don't need to be transformed to be useful\n",
    "\n",
    "## 1. Introducing the Data"
   ]
  },
  {
   "cell_type": "code",
   "execution_count": 1,
   "metadata": {},
   "outputs": [
    {
     "name": "stdout",
     "output_type": "stream",
     "text": [
      "(2344, 82) (586, 82)\n"
     ]
    },
    {
     "data": {
      "text/plain": [
       "((2344, 81), (2344,), (586, 81), (586,))"
      ]
     },
     "execution_count": 1,
     "metadata": {},
     "output_type": "execute_result"
    }
   ],
   "source": [
    "import pandas as pd\n",
    "import numpy as np\n",
    "from sklearn.model_selection import train_test_split\n",
    "pd.set_option(\"display.max_columns\", 99)\n",
    "pd.set_option(\"display.max_rows\", 999)\n",
    "pd.set_option('precision', 3)\n",
    "\n",
    "ames = pd.read_csv('data/Ames_Housing.txt', delimiter=\"\\t\")\n",
    "\n",
    "train, test = train_test_split(ames, test_size=0.2, random_state=42)\n",
    "print(train.shape, test.shape)\n",
    "\n",
    "X_train = train.drop('SalePrice', axis=1)\n",
    "y_train = train['SalePrice']\n",
    "\n",
    "X_test = test.drop('SalePrice', axis=1)\n",
    "y_test = test['SalePrice']\n",
    "\n",
    "X_train.shape, y_train.shape, X_test.shape, y_test.shape"
   ]
  },
  {
   "cell_type": "code",
   "execution_count": null,
   "metadata": {},
   "outputs": [],
   "source": []
  }
 ],
 "metadata": {
  "kernelspec": {
   "display_name": "Python 3",
   "language": "python",
   "name": "python3"
  },
  "language_info": {
   "codemirror_mode": {
    "name": "ipython",
    "version": 3
   },
   "file_extension": ".py",
   "mimetype": "text/x-python",
   "name": "python",
   "nbconvert_exporter": "python",
   "pygments_lexer": "ipython3",
   "version": "3.7.7"
  }
 },
 "nbformat": 4,
 "nbformat_minor": 4
}
