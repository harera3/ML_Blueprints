{
 "cells": [
  {
   "cell_type": "markdown",
   "metadata": {},
   "source": [
    "# 2. MULTIVARIATE K-NEAREST NEIGHBORS\n",
    "---"
   ]
  },
  {
   "cell_type": "markdown",
   "metadata": {},
   "source": [
    "## 1. Introducing the Data"
   ]
  },
  {
   "cell_type": "code",
   "execution_count": 1,
   "metadata": {},
   "outputs": [
    {
     "data": {
      "text/html": [
       "<div>\n",
       "<style scoped>\n",
       "    .dataframe tbody tr th:only-of-type {\n",
       "        vertical-align: middle;\n",
       "    }\n",
       "\n",
       "    .dataframe tbody tr th {\n",
       "        vertical-align: top;\n",
       "    }\n",
       "\n",
       "    .dataframe thead th {\n",
       "        text-align: right;\n",
       "    }\n",
       "</style>\n",
       "<table border=\"1\" class=\"dataframe\">\n",
       "  <thead>\n",
       "    <tr style=\"text-align: right;\">\n",
       "      <th></th>\n",
       "      <th>accommodates</th>\n",
       "      <th>bedrooms</th>\n",
       "      <th>bathrooms</th>\n",
       "      <th>beds</th>\n",
       "      <th>price</th>\n",
       "      <th>minimum_nights</th>\n",
       "      <th>maximum_nights</th>\n",
       "      <th>number_of_reviews</th>\n",
       "    </tr>\n",
       "  </thead>\n",
       "  <tbody>\n",
       "    <tr>\n",
       "      <th>0</th>\n",
       "      <td>4</td>\n",
       "      <td>1.0</td>\n",
       "      <td>1.0</td>\n",
       "      <td>2.0</td>\n",
       "      <td>$160.00</td>\n",
       "      <td>1</td>\n",
       "      <td>1125</td>\n",
       "      <td>0</td>\n",
       "    </tr>\n",
       "    <tr>\n",
       "      <th>1</th>\n",
       "      <td>6</td>\n",
       "      <td>3.0</td>\n",
       "      <td>3.0</td>\n",
       "      <td>3.0</td>\n",
       "      <td>$350.00</td>\n",
       "      <td>2</td>\n",
       "      <td>30</td>\n",
       "      <td>65</td>\n",
       "    </tr>\n",
       "    <tr>\n",
       "      <th>2</th>\n",
       "      <td>1</td>\n",
       "      <td>1.0</td>\n",
       "      <td>2.0</td>\n",
       "      <td>1.0</td>\n",
       "      <td>$50.00</td>\n",
       "      <td>2</td>\n",
       "      <td>1125</td>\n",
       "      <td>1</td>\n",
       "    </tr>\n",
       "    <tr>\n",
       "      <th>3</th>\n",
       "      <td>2</td>\n",
       "      <td>1.0</td>\n",
       "      <td>1.0</td>\n",
       "      <td>1.0</td>\n",
       "      <td>$95.00</td>\n",
       "      <td>1</td>\n",
       "      <td>1125</td>\n",
       "      <td>0</td>\n",
       "    </tr>\n",
       "    <tr>\n",
       "      <th>4</th>\n",
       "      <td>4</td>\n",
       "      <td>1.0</td>\n",
       "      <td>1.0</td>\n",
       "      <td>1.0</td>\n",
       "      <td>$50.00</td>\n",
       "      <td>7</td>\n",
       "      <td>1125</td>\n",
       "      <td>0</td>\n",
       "    </tr>\n",
       "  </tbody>\n",
       "</table>\n",
       "</div>"
      ],
      "text/plain": [
       "   accommodates  bedrooms  bathrooms  beds    price  minimum_nights  \\\n",
       "0             4       1.0        1.0   2.0  $160.00               1   \n",
       "1             6       3.0        3.0   3.0  $350.00               2   \n",
       "2             1       1.0        2.0   1.0   $50.00               2   \n",
       "3             2       1.0        1.0   1.0   $95.00               1   \n",
       "4             4       1.0        1.0   1.0   $50.00               7   \n",
       "\n",
       "   maximum_nights  number_of_reviews  \n",
       "0            1125                  0  \n",
       "1              30                 65  \n",
       "2            1125                  1  \n",
       "3            1125                  0  \n",
       "4            1125                  0  "
      ]
     },
     "execution_count": 1,
     "metadata": {},
     "output_type": "execute_result"
    }
   ],
   "source": [
    "import pandas as pd\n",
    "import numpy as np\n",
    "\n",
    "file = 'data/dc_airbnb.csv'\n",
    "cols = ['accommodates', 'bedrooms', 'bathrooms', 'beds', 'price', \n",
    "        'minimum_nights', 'maximum_nights', 'number_of_reviews']\n",
    "dc = pd.read_csv(file)\n",
    "dc = dc[cols]\n",
    "dc.head()"
   ]
  },
  {
   "cell_type": "code",
   "execution_count": 2,
   "metadata": {},
   "outputs": [
    {
     "data": {
      "text/plain": [
       "(3723, 8)"
      ]
     },
     "execution_count": 2,
     "metadata": {},
     "output_type": "execute_result"
    }
   ],
   "source": [
    "dc.shape"
   ]
  },
  {
   "cell_type": "markdown",
   "metadata": {},
   "source": [
    "## 2. Cleaning the Price Column"
   ]
  },
  {
   "cell_type": "code",
   "execution_count": 3,
   "metadata": {},
   "outputs": [
    {
     "data": {
      "text/html": [
       "<div>\n",
       "<style scoped>\n",
       "    .dataframe tbody tr th:only-of-type {\n",
       "        vertical-align: middle;\n",
       "    }\n",
       "\n",
       "    .dataframe tbody tr th {\n",
       "        vertical-align: top;\n",
       "    }\n",
       "\n",
       "    .dataframe thead th {\n",
       "        text-align: right;\n",
       "    }\n",
       "</style>\n",
       "<table border=\"1\" class=\"dataframe\">\n",
       "  <thead>\n",
       "    <tr style=\"text-align: right;\">\n",
       "      <th></th>\n",
       "      <th>accommodates</th>\n",
       "      <th>bedrooms</th>\n",
       "      <th>bathrooms</th>\n",
       "      <th>beds</th>\n",
       "      <th>price</th>\n",
       "      <th>minimum_nights</th>\n",
       "      <th>maximum_nights</th>\n",
       "      <th>number_of_reviews</th>\n",
       "    </tr>\n",
       "  </thead>\n",
       "  <tbody>\n",
       "    <tr>\n",
       "      <th>0</th>\n",
       "      <td>4</td>\n",
       "      <td>1.0</td>\n",
       "      <td>1.0</td>\n",
       "      <td>2.0</td>\n",
       "      <td>160.0</td>\n",
       "      <td>1</td>\n",
       "      <td>1125</td>\n",
       "      <td>0</td>\n",
       "    </tr>\n",
       "    <tr>\n",
       "      <th>1</th>\n",
       "      <td>6</td>\n",
       "      <td>3.0</td>\n",
       "      <td>3.0</td>\n",
       "      <td>3.0</td>\n",
       "      <td>350.0</td>\n",
       "      <td>2</td>\n",
       "      <td>30</td>\n",
       "      <td>65</td>\n",
       "    </tr>\n",
       "    <tr>\n",
       "      <th>2</th>\n",
       "      <td>1</td>\n",
       "      <td>1.0</td>\n",
       "      <td>2.0</td>\n",
       "      <td>1.0</td>\n",
       "      <td>50.0</td>\n",
       "      <td>2</td>\n",
       "      <td>1125</td>\n",
       "      <td>1</td>\n",
       "    </tr>\n",
       "    <tr>\n",
       "      <th>3</th>\n",
       "      <td>2</td>\n",
       "      <td>1.0</td>\n",
       "      <td>1.0</td>\n",
       "      <td>1.0</td>\n",
       "      <td>95.0</td>\n",
       "      <td>1</td>\n",
       "      <td>1125</td>\n",
       "      <td>0</td>\n",
       "    </tr>\n",
       "    <tr>\n",
       "      <th>4</th>\n",
       "      <td>4</td>\n",
       "      <td>1.0</td>\n",
       "      <td>1.0</td>\n",
       "      <td>1.0</td>\n",
       "      <td>50.0</td>\n",
       "      <td>7</td>\n",
       "      <td>1125</td>\n",
       "      <td>0</td>\n",
       "    </tr>\n",
       "  </tbody>\n",
       "</table>\n",
       "</div>"
      ],
      "text/plain": [
       "   accommodates  bedrooms  bathrooms  beds  price  minimum_nights  \\\n",
       "0             4       1.0        1.0   2.0  160.0               1   \n",
       "1             6       3.0        3.0   3.0  350.0               2   \n",
       "2             1       1.0        2.0   1.0   50.0               2   \n",
       "3             2       1.0        1.0   1.0   95.0               1   \n",
       "4             4       1.0        1.0   1.0   50.0               7   \n",
       "\n",
       "   maximum_nights  number_of_reviews  \n",
       "0            1125                  0  \n",
       "1              30                 65  \n",
       "2            1125                  1  \n",
       "3            1125                  0  \n",
       "4            1125                  0  "
      ]
     },
     "execution_count": 3,
     "metadata": {},
     "output_type": "execute_result"
    }
   ],
   "source": [
    "from sklearn.base import BaseEstimator, TransformerMixin\n",
    "\n",
    "class PriceCleaner(BaseEstimator, TransformerMixin):    \n",
    "    def __init__(self):\n",
    "        self  \n",
    "    def fit(self, df, y = None):               \n",
    "        return self\n",
    "    def transform(self, df):               \n",
    "        df = df.copy()\n",
    "        no_comma = df['price'].str.replace(',', '')\n",
    "        no_dollar = no_comma.str.replace('$', '')\n",
    "        df['price'] = no_dollar.astype('float')\n",
    "        return df\n",
    "    \n",
    "pricer = PriceCleaner()\n",
    "dc_priced = pricer.transform(dc)\n",
    "dc_priced.head()"
   ]
  },
  {
   "cell_type": "markdown",
   "metadata": {},
   "source": [
    "## 3. Dealing with Outliers"
   ]
  },
  {
   "cell_type": "code",
   "execution_count": 4,
   "metadata": {},
   "outputs": [
    {
     "data": {
      "text/plain": [
       "accommodates         1.500000e+01\n",
       "bedrooms             1.000000e+01\n",
       "bathrooms            8.000000e+00\n",
       "beds                 1.500000e+01\n",
       "price                2.812000e+03\n",
       "minimum_nights       1.790000e+02\n",
       "maximum_nights       2.147484e+09\n",
       "number_of_reviews    3.620000e+02\n",
       "dtype: float64"
      ]
     },
     "execution_count": 4,
     "metadata": {},
     "output_type": "execute_result"
    }
   ],
   "source": [
    "dc_priced.max() - dc_priced.min()"
   ]
  },
  {
   "cell_type": "markdown",
   "metadata": {},
   "source": [
    "The `maximum_nights` column is the only problem we have when it comes to outliers; a 2-billion difference? Once can assume that the maximum nights values were entered arbitrarily and, therefore, are not that meaningful. This means I can limit these extreme values to a certain arbitrary value, closer to the mean of the distribution, without losing meaningful information in the data. A typical strategy I can use involves setting outliers to a specified percentile.\n",
    "- For example, with 90% winsorization, I would set:\n",
    "    - all data below the 5th percentile to the value at the 5th percentile and \n",
    "    - all data above the 95th percentile to the value at the 95th percentile.\n",
    "- However, I am not touching the lower values, so only the `high outliers will be winsorized to 99.9th percentile`."
   ]
  },
  {
   "cell_type": "code",
   "execution_count": 5,
   "metadata": {},
   "outputs": [
    {
     "data": {
      "text/plain": [
       "2000.0"
      ]
     },
     "execution_count": 5,
     "metadata": {},
     "output_type": "execute_result"
    }
   ],
   "source": [
    "dc_priced['maximum_nights'].quantile(0.999)"
   ]
  },
  {
   "cell_type": "code",
   "execution_count": 6,
   "metadata": {},
   "outputs": [
    {
     "data": {
      "image/png": "[encoded data removed]",
      "text/plain": [
       "<Figure size 1152x288 with 3 Axes>"
      ]
     },
     "metadata": {
      "needs_background": "light"
     },
     "output_type": "display_data"
    }
   ],
   "source": [
    "import matplotlib.pyplot as plt\n",
    "import seaborn as sns\n",
    "import scipy.stats as stats\n",
    "\n",
    "def diagnostic_plots(df, variable):   \n",
    "    plt.figure(figsize=(16, 4))\n",
    "   \n",
    "    plt.subplot(1, 3, 1)\n",
    "    sns.distplot(df[variable], bins=30)\n",
    "    plt.title('Histogram')\n",
    "   \n",
    "    plt.subplot(1, 3, 2)\n",
    "    stats.probplot(df[variable], dist=\"norm\", plot=plt)\n",
    "    plt.ylabel('MaxNights Quantiles')\n",
    "    \n",
    "    plt.subplot(1, 3, 3)\n",
    "    sns.boxplot(y=df[variable])\n",
    "    plt.title('Boxplot')\n",
    "\n",
    "    plt.show()\n",
    "    \n",
    "# let's plot RM\n",
    "diagnostic_plots(dc_priced, 'maximum_nights')"
   ]
  },
  {
   "cell_type": "code",
   "execution_count": 7,
   "metadata": {},
   "outputs": [
    {
     "data": {
      "text/plain": [
       "accommodates           15.0\n",
       "bedrooms               10.0\n",
       "bathrooms               8.0\n",
       "beds                   15.0\n",
       "price                2812.0\n",
       "minimum_nights        179.0\n",
       "maximum_nights       1999.0\n",
       "number_of_reviews     362.0\n",
       "dtype: float64"
      ]
     },
     "execution_count": 7,
     "metadata": {},
     "output_type": "execute_result"
    }
   ],
   "source": [
    "# 99th winsorization function \n",
    "def winsoriser(df, variable):\n",
    "    ul = df[variable].quantile(0.999)\n",
    "    return np.where(df[variable] > ul, \n",
    "                    ul, df[variable])\n",
    "dc_priced['maximum_nights'] = winsoriser(dc_priced, 'maximum_nights')\n",
    "dc_priced.max() - dc_priced.min()"
   ]
  },
  {
   "cell_type": "code",
   "execution_count": 8,
   "metadata": {},
   "outputs": [
    {
     "data": {
      "image/png": "[encoded data removed]",
      "text/plain": [
       "<Figure size 1152x288 with 3 Axes>"
      ]
     },
     "metadata": {
      "needs_background": "light"
     },
     "output_type": "display_data"
    }
   ],
   "source": [
    "diagnostic_plots(dc_priced, 'maximum_nights')"
   ]
  },
  {
   "cell_type": "markdown",
   "metadata": {},
   "source": [
    "## 4. Imputing Missing Data"
   ]
  },
  {
   "cell_type": "code",
   "execution_count": 9,
   "metadata": {},
   "outputs": [
    {
     "data": {
      "text/plain": [
       "accommodates         0.000000\n",
       "price                0.000000\n",
       "minimum_nights       0.000000\n",
       "maximum_nights       0.000000\n",
       "number_of_reviews    0.000000\n",
       "beds                 0.002955\n",
       "bedrooms             0.005641\n",
       "bathrooms            0.007252\n",
       "dtype: float64"
      ]
     },
     "execution_count": 9,
     "metadata": {},
     "output_type": "execute_result"
    }
   ],
   "source": [
    "dc_priced.isnull().mean().sort_values(ascending=True)"
   ]
  },
  {
   "cell_type": "code",
   "execution_count": 10,
   "metadata": {},
   "outputs": [
    {
     "data": {
      "text/plain": [
       "accommodates         0.0\n",
       "bedrooms             0.0\n",
       "bathrooms            0.0\n",
       "beds                 0.0\n",
       "price                0.0\n",
       "minimum_nights       0.0\n",
       "maximum_nights       0.0\n",
       "number_of_reviews    0.0\n",
       "dtype: float64"
      ]
     },
     "execution_count": 10,
     "metadata": {},
     "output_type": "execute_result"
    }
   ],
   "source": [
    "from sklearn.impute import SimpleImputer\n",
    "\n",
    "imputer = SimpleImputer(strategy='median')\n",
    "imputer.fit(dc_priced)\n",
    "dc_imputed = imputer.transform(dc_priced)\n",
    "\n",
    "dc_imputed = pd.DataFrame(dc_imputed)\n",
    "dc_imputed.columns = cols\n",
    "dc_imputed.isnull().mean()"
   ]
  },
  {
   "cell_type": "code",
   "execution_count": 11,
   "metadata": {},
   "outputs": [
    {
     "data": {
      "text/plain": [
       "(3723, 8)"
      ]
     },
     "execution_count": 11,
     "metadata": {},
     "output_type": "execute_result"
    }
   ],
   "source": [
    "dc_imputed.shape"
   ]
  },
  {
   "cell_type": "markdown",
   "metadata": {},
   "source": [
    "## 5. Train-Test Splitting"
   ]
  },
  {
   "cell_type": "code",
   "execution_count": 12,
   "metadata": {},
   "outputs": [
    {
     "data": {
      "text/plain": [
       "((2978, 7), (2978,), (745, 7), (745,))"
      ]
     },
     "execution_count": 12,
     "metadata": {},
     "output_type": "execute_result"
    }
   ],
   "source": [
    "from sklearn.model_selection import train_test_split\n",
    "\n",
    "train, test = train_test_split(dc_imputed, test_size=0.2, random_state=42)\n",
    "train.shape, test.shape\n",
    "\n",
    "train.to_csv('data/dc_train')\n",
    "test.to_csv('data/dc_test')\n",
    "\n",
    "X_train = train.drop('price', axis=1)\n",
    "y_train = train['price']\n",
    "\n",
    "X_test = test.drop('price', axis=1)\n",
    "y_test = test['price']\n",
    "\n",
    "X_cols = X_train.columns\n",
    "\n",
    "X_train.shape, y_train.shape, X_test.shape, y_test.shape"
   ]
  },
  {
   "cell_type": "markdown",
   "metadata": {},
   "source": [
    "## 6. Data Standardization"
   ]
  },
  {
   "cell_type": "code",
   "execution_count": 13,
   "metadata": {},
   "outputs": [
    {
     "data": {
      "text/html": [
       "<div>\n",
       "<style scoped>\n",
       "    .dataframe tbody tr th:only-of-type {\n",
       "        vertical-align: middle;\n",
       "    }\n",
       "\n",
       "    .dataframe tbody tr th {\n",
       "        vertical-align: top;\n",
       "    }\n",
       "\n",
       "    .dataframe thead th {\n",
       "        text-align: right;\n",
       "    }\n",
       "</style>\n",
       "<table border=\"1\" class=\"dataframe\">\n",
       "  <thead>\n",
       "    <tr style=\"text-align: right;\">\n",
       "      <th></th>\n",
       "      <th>accommodates</th>\n",
       "      <th>bedrooms</th>\n",
       "      <th>bathrooms</th>\n",
       "      <th>beds</th>\n",
       "      <th>minimum_nights</th>\n",
       "      <th>maximum_nights</th>\n",
       "      <th>number_of_reviews</th>\n",
       "    </tr>\n",
       "  </thead>\n",
       "  <tbody>\n",
       "    <tr>\n",
       "      <th>0</th>\n",
       "      <td>0.392503</td>\n",
       "      <td>-0.249075</td>\n",
       "      <td>-0.436195</td>\n",
       "      <td>0.313088</td>\n",
       "      <td>-0.073419</td>\n",
       "      <td>0.697780</td>\n",
       "      <td>-0.018695</td>\n",
       "    </tr>\n",
       "    <tr>\n",
       "      <th>1</th>\n",
       "      <td>0.392503</td>\n",
       "      <td>-0.249075</td>\n",
       "      <td>-0.436195</td>\n",
       "      <td>-0.552628</td>\n",
       "      <td>-0.325020</td>\n",
       "      <td>0.697780</td>\n",
       "      <td>0.150325</td>\n",
       "    </tr>\n",
       "    <tr>\n",
       "      <th>2</th>\n",
       "      <td>-0.593473</td>\n",
       "      <td>-0.249075</td>\n",
       "      <td>-0.436195</td>\n",
       "      <td>-0.552628</td>\n",
       "      <td>-0.325020</td>\n",
       "      <td>0.697780</td>\n",
       "      <td>-0.221520</td>\n",
       "    </tr>\n",
       "    <tr>\n",
       "      <th>3</th>\n",
       "      <td>0.885491</td>\n",
       "      <td>0.943443</td>\n",
       "      <td>1.274127</td>\n",
       "      <td>1.178805</td>\n",
       "      <td>0.178182</td>\n",
       "      <td>-0.106969</td>\n",
       "      <td>0.116521</td>\n",
       "    </tr>\n",
       "    <tr>\n",
       "      <th>4</th>\n",
       "      <td>1.378479</td>\n",
       "      <td>0.943443</td>\n",
       "      <td>-0.436195</td>\n",
       "      <td>0.313088</td>\n",
       "      <td>-0.073419</td>\n",
       "      <td>-1.522921</td>\n",
       "      <td>-0.018695</td>\n",
       "    </tr>\n",
       "  </tbody>\n",
       "</table>\n",
       "</div>"
      ],
      "text/plain": [
       "   accommodates  bedrooms  bathrooms      beds  minimum_nights  \\\n",
       "0      0.392503 -0.249075  -0.436195  0.313088       -0.073419   \n",
       "1      0.392503 -0.249075  -0.436195 -0.552628       -0.325020   \n",
       "2     -0.593473 -0.249075  -0.436195 -0.552628       -0.325020   \n",
       "3      0.885491  0.943443   1.274127  1.178805        0.178182   \n",
       "4      1.378479  0.943443  -0.436195  0.313088       -0.073419   \n",
       "\n",
       "   maximum_nights  number_of_reviews  \n",
       "0        0.697780          -0.018695  \n",
       "1        0.697780           0.150325  \n",
       "2        0.697780          -0.221520  \n",
       "3       -0.106969           0.116521  \n",
       "4       -1.522921          -0.018695  "
      ]
     },
     "execution_count": 13,
     "metadata": {},
     "output_type": "execute_result"
    }
   ],
   "source": [
    "from sklearn.preprocessing import StandardScaler\n",
    "\n",
    "scaler = StandardScaler()\n",
    "X_train_scaled = scaler.fit_transform(X_train)\n",
    "X_test_scaled = scaler.transform(X_test)\n",
    "\n",
    "X_train = pd.DataFrame(X_train_scaled)\n",
    "X_train.columns = X_cols\n",
    "X_train.head()"
   ]
  },
  {
   "cell_type": "code",
   "execution_count": 14,
   "metadata": {},
   "outputs": [
    {
     "data": {
      "text/plain": [
       "array([  3.20382807,   1.20886501,   1.25503694,   1.63834788,\n",
       "         2.29180658, 782.50436535,  15.55305574])"
      ]
     },
     "execution_count": 14,
     "metadata": {},
     "output_type": "execute_result"
    }
   ],
   "source": [
    "scaler.mean_"
   ]
  },
  {
   "cell_type": "code",
   "execution_count": 15,
   "metadata": {},
   "outputs": [
    {
     "data": {
      "text/plain": [
       "array([  2.02844748,   0.83856147,   0.58468518,   1.15511254,\n",
       "         3.97454206, 490.83603328,  29.5822953 ])"
      ]
     },
     "execution_count": 15,
     "metadata": {},
     "output_type": "execute_result"
    }
   ],
   "source": [
    "scaler.scale_"
   ]
  },
  {
   "cell_type": "code",
   "execution_count": 16,
   "metadata": {},
   "outputs": [
    {
     "data": {
      "text/plain": [
       "2978"
      ]
     },
     "execution_count": 16,
     "metadata": {},
     "output_type": "execute_result"
    }
   ],
   "source": [
    "scaler.n_samples_seen_"
   ]
  },
  {
   "cell_type": "code",
   "execution_count": 17,
   "metadata": {
    "scrolled": true
   },
   "outputs": [
    {
     "data": {
      "text/html": [
       "<div>\n",
       "<style scoped>\n",
       "    .dataframe tbody tr th:only-of-type {\n",
       "        vertical-align: middle;\n",
       "    }\n",
       "\n",
       "    .dataframe tbody tr th {\n",
       "        vertical-align: top;\n",
       "    }\n",
       "\n",
       "    .dataframe thead th {\n",
       "        text-align: right;\n",
       "    }\n",
       "</style>\n",
       "<table border=\"1\" class=\"dataframe\">\n",
       "  <thead>\n",
       "    <tr style=\"text-align: right;\">\n",
       "      <th></th>\n",
       "      <th>accommodates</th>\n",
       "      <th>bedrooms</th>\n",
       "      <th>bathrooms</th>\n",
       "      <th>beds</th>\n",
       "      <th>minimum_nights</th>\n",
       "      <th>maximum_nights</th>\n",
       "      <th>number_of_reviews</th>\n",
       "    </tr>\n",
       "  </thead>\n",
       "  <tbody>\n",
       "    <tr>\n",
       "      <th>count</th>\n",
       "      <td>2.978000e+03</td>\n",
       "      <td>2.978000e+03</td>\n",
       "      <td>2.978000e+03</td>\n",
       "      <td>2.978000e+03</td>\n",
       "      <td>2.978000e+03</td>\n",
       "      <td>2.978000e+03</td>\n",
       "      <td>2.978000e+03</td>\n",
       "    </tr>\n",
       "    <tr>\n",
       "      <th>mean</th>\n",
       "      <td>9.081609e-17</td>\n",
       "      <td>-4.332032e-17</td>\n",
       "      <td>1.521431e-16</td>\n",
       "      <td>9.357488e-17</td>\n",
       "      <td>2.654768e-16</td>\n",
       "      <td>-5.562299e-17</td>\n",
       "      <td>-4.615366e-17</td>\n",
       "    </tr>\n",
       "    <tr>\n",
       "      <th>std</th>\n",
       "      <td>1.000168e+00</td>\n",
       "      <td>1.000168e+00</td>\n",
       "      <td>1.000168e+00</td>\n",
       "      <td>1.000168e+00</td>\n",
       "      <td>1.000168e+00</td>\n",
       "      <td>1.000168e+00</td>\n",
       "      <td>1.000168e+00</td>\n",
       "    </tr>\n",
       "    <tr>\n",
       "      <th>min</th>\n",
       "      <td>-1.086461e+00</td>\n",
       "      <td>-1.441594e+00</td>\n",
       "      <td>-2.146517e+00</td>\n",
       "      <td>-5.526283e-01</td>\n",
       "      <td>-3.250202e-01</td>\n",
       "      <td>-1.592190e+00</td>\n",
       "      <td>-5.257555e-01</td>\n",
       "    </tr>\n",
       "    <tr>\n",
       "      <th>25%</th>\n",
       "      <td>-5.934726e-01</td>\n",
       "      <td>-2.490754e-01</td>\n",
       "      <td>-4.361953e-01</td>\n",
       "      <td>-5.526283e-01</td>\n",
       "      <td>-3.250202e-01</td>\n",
       "      <td>-1.349747e+00</td>\n",
       "      <td>-4.919515e-01</td>\n",
       "    </tr>\n",
       "    <tr>\n",
       "      <th>50%</th>\n",
       "      <td>-5.934726e-01</td>\n",
       "      <td>-2.490754e-01</td>\n",
       "      <td>-4.361953e-01</td>\n",
       "      <td>-5.526283e-01</td>\n",
       "      <td>-7.341892e-02</td>\n",
       "      <td>6.977801e-01</td>\n",
       "      <td>-3.905395e-01</td>\n",
       "    </tr>\n",
       "    <tr>\n",
       "      <th>75%</th>\n",
       "      <td>3.925031e-01</td>\n",
       "      <td>-2.490754e-01</td>\n",
       "      <td>-4.361953e-01</td>\n",
       "      <td>3.130882e-01</td>\n",
       "      <td>1.781824e-01</td>\n",
       "      <td>6.977801e-01</td>\n",
       "      <td>4.891251e-02</td>\n",
       "    </tr>\n",
       "    <tr>\n",
       "      <th>max</th>\n",
       "      <td>6.308358e+00</td>\n",
       "      <td>1.048359e+01</td>\n",
       "      <td>1.153606e+01</td>\n",
       "      <td>1.243312e+01</td>\n",
       "      <td>4.471161e+01</td>\n",
       "      <td>2.480453e+00</td>\n",
       "      <td>1.090000e+01</td>\n",
       "    </tr>\n",
       "  </tbody>\n",
       "</table>\n",
       "</div>"
      ],
      "text/plain": [
       "       accommodates      bedrooms     bathrooms          beds  minimum_nights  \\\n",
       "count  2.978000e+03  2.978000e+03  2.978000e+03  2.978000e+03    2.978000e+03   \n",
       "mean   9.081609e-17 -4.332032e-17  1.521431e-16  9.357488e-17    2.654768e-16   \n",
       "std    1.000168e+00  1.000168e+00  1.000168e+00  1.000168e+00    1.000168e+00   \n",
       "min   -1.086461e+00 -1.441594e+00 -2.146517e+00 -5.526283e-01   -3.250202e-01   \n",
       "25%   -5.934726e-01 -2.490754e-01 -4.361953e-01 -5.526283e-01   -3.250202e-01   \n",
       "50%   -5.934726e-01 -2.490754e-01 -4.361953e-01 -5.526283e-01   -7.341892e-02   \n",
       "75%    3.925031e-01 -2.490754e-01 -4.361953e-01  3.130882e-01    1.781824e-01   \n",
       "max    6.308358e+00  1.048359e+01  1.153606e+01  1.243312e+01    4.471161e+01   \n",
       "\n",
       "       maximum_nights  number_of_reviews  \n",
       "count    2.978000e+03       2.978000e+03  \n",
       "mean    -5.562299e-17      -4.615366e-17  \n",
       "std      1.000168e+00       1.000168e+00  \n",
       "min     -1.592190e+00      -5.257555e-01  \n",
       "25%     -1.349747e+00      -4.919515e-01  \n",
       "50%      6.977801e-01      -3.905395e-01  \n",
       "75%      6.977801e-01       4.891251e-02  \n",
       "max      2.480453e+00       1.090000e+01  "
      ]
     },
     "execution_count": 17,
     "metadata": {},
     "output_type": "execute_result"
    }
   ],
   "source": [
    "X_train.describe()"
   ]
  },
  {
   "cell_type": "code",
   "execution_count": 18,
   "metadata": {},
   "outputs": [
    {
     "data": {
      "text/html": [
       "<div>\n",
       "<style scoped>\n",
       "    .dataframe tbody tr th:only-of-type {\n",
       "        vertical-align: middle;\n",
       "    }\n",
       "\n",
       "    .dataframe tbody tr th {\n",
       "        vertical-align: top;\n",
       "    }\n",
       "\n",
       "    .dataframe thead th {\n",
       "        text-align: right;\n",
       "    }\n",
       "</style>\n",
       "<table border=\"1\" class=\"dataframe\">\n",
       "  <thead>\n",
       "    <tr style=\"text-align: right;\">\n",
       "      <th></th>\n",
       "      <th>accommodates</th>\n",
       "      <th>bedrooms</th>\n",
       "      <th>bathrooms</th>\n",
       "      <th>beds</th>\n",
       "      <th>minimum_nights</th>\n",
       "      <th>maximum_nights</th>\n",
       "      <th>number_of_reviews</th>\n",
       "    </tr>\n",
       "  </thead>\n",
       "  <tbody>\n",
       "    <tr>\n",
       "      <th>0</th>\n",
       "      <td>0.392503</td>\n",
       "      <td>-0.249075</td>\n",
       "      <td>-0.436195</td>\n",
       "      <td>-0.552628</td>\n",
       "      <td>-0.325020</td>\n",
       "      <td>0.697780</td>\n",
       "      <td>-0.153912</td>\n",
       "    </tr>\n",
       "    <tr>\n",
       "      <th>1</th>\n",
       "      <td>-0.593473</td>\n",
       "      <td>-0.249075</td>\n",
       "      <td>-0.436195</td>\n",
       "      <td>-0.552628</td>\n",
       "      <td>-0.073419</td>\n",
       "      <td>-1.565705</td>\n",
       "      <td>-0.086304</td>\n",
       "    </tr>\n",
       "    <tr>\n",
       "      <th>2</th>\n",
       "      <td>-0.593473</td>\n",
       "      <td>-0.249075</td>\n",
       "      <td>-0.436195</td>\n",
       "      <td>-0.552628</td>\n",
       "      <td>0.178182</td>\n",
       "      <td>0.697780</td>\n",
       "      <td>-0.525756</td>\n",
       "    </tr>\n",
       "    <tr>\n",
       "      <th>3</th>\n",
       "      <td>0.392503</td>\n",
       "      <td>-1.441594</td>\n",
       "      <td>-0.436195</td>\n",
       "      <td>0.313088</td>\n",
       "      <td>-0.325020</td>\n",
       "      <td>0.697780</td>\n",
       "      <td>0.555973</td>\n",
       "    </tr>\n",
       "    <tr>\n",
       "      <th>4</th>\n",
       "      <td>-0.593473</td>\n",
       "      <td>-0.249075</td>\n",
       "      <td>-0.436195</td>\n",
       "      <td>-0.552628</td>\n",
       "      <td>-0.325020</td>\n",
       "      <td>0.697780</td>\n",
       "      <td>0.454561</td>\n",
       "    </tr>\n",
       "  </tbody>\n",
       "</table>\n",
       "</div>"
      ],
      "text/plain": [
       "   accommodates  bedrooms  bathrooms      beds  minimum_nights  \\\n",
       "0      0.392503 -0.249075  -0.436195 -0.552628       -0.325020   \n",
       "1     -0.593473 -0.249075  -0.436195 -0.552628       -0.073419   \n",
       "2     -0.593473 -0.249075  -0.436195 -0.552628        0.178182   \n",
       "3      0.392503 -1.441594  -0.436195  0.313088       -0.325020   \n",
       "4     -0.593473 -0.249075  -0.436195 -0.552628       -0.325020   \n",
       "\n",
       "   maximum_nights  number_of_reviews  \n",
       "0        0.697780          -0.153912  \n",
       "1       -1.565705          -0.086304  \n",
       "2        0.697780          -0.525756  \n",
       "3        0.697780           0.555973  \n",
       "4        0.697780           0.454561  "
      ]
     },
     "execution_count": 18,
     "metadata": {},
     "output_type": "execute_result"
    }
   ],
   "source": [
    "X_test = pd.DataFrame(X_test_scaled)\n",
    "X_test.columns = X_cols\n",
    "X_test.head()"
   ]
  },
  {
   "cell_type": "code",
   "execution_count": 19,
   "metadata": {},
   "outputs": [
    {
     "data": {
      "text/plain": [
       "(745, 7)"
      ]
     },
     "execution_count": 19,
     "metadata": {},
     "output_type": "execute_result"
    }
   ],
   "source": [
    "X_test.shape"
   ]
  },
  {
   "cell_type": "markdown",
   "metadata": {},
   "source": [
    "## 7. Training KNN on All Features"
   ]
  },
  {
   "cell_type": "code",
   "execution_count": 20,
   "metadata": {},
   "outputs": [
    {
     "name": "stdout",
     "output_type": "stream",
     "text": [
      "MSE_train: 10515.422149093352\n",
      "RMSE_train: 102.54473242977112\n"
     ]
    }
   ],
   "source": [
    "from sklearn.neighbors import KNeighborsRegressor\n",
    "from sklearn.metrics import mean_squared_error\n",
    "\n",
    "knn = KNeighborsRegressor(algorithm='brute')\n",
    "knn.fit(X_train, y_train)\n",
    "y_pred = knn.predict(X_train)\n",
    "mse = mean_squared_error(y_train, y_pred)\n",
    "rmse = np.sqrt(mse)\n",
    "print('MSE_train:', mse)\n",
    "print('RMSE_train:', rmse)"
   ]
  },
  {
   "cell_type": "code",
   "execution_count": 21,
   "metadata": {},
   "outputs": [
    {
     "name": "stdout",
     "output_type": "stream",
     "text": [
      "MSE_test: 11454.521932885906\n",
      "RMSE_test: 107.02580031415745\n"
     ]
    }
   ],
   "source": [
    "y_pred = knn.predict(X_test)\n",
    "mse = mean_squared_error(y_test, y_pred)\n",
    "rmse = np.sqrt(mse)\n",
    "print('MSE_test:', mse)\n",
    "print('RMSE_test:', rmse)"
   ]
  }
 ],
 "metadata": {
  "kernelspec": {
   "display_name": "Python 3",
   "language": "python",
   "name": "python3"
  },
  "language_info": {
   "codemirror_mode": {
    "name": "ipython",
    "version": 3
   },
   "file_extension": ".py",
   "mimetype": "text/x-python",
   "name": "python",
   "nbconvert_exporter": "python",
   "pygments_lexer": "ipython3",
   "version": "3.7.7"
  }
 },
 "nbformat": 4,
 "nbformat_minor": 4
}
