{
 "cells": [
  {
   "cell_type": "markdown",
   "metadata": {},
   "source": [
    "# AIRBNB PROJECT\n",
    "---\n",
    "As an AirBnB host I want to:\n",
    "- find listings that are similar to mine\n",
    "- average the listings' prices \n",
    "- set my place's price to the averaged price\n",
    "\n",
    "This makes sure that I don't lose business because my price is too high but it also makes sure that I don't lose money because I set the price too low.\n",
    "\n",
    "Machine Learning Model: `K-Nearest Neighbors` - unsupervised model\n",
    "\n",
    "Data: \n",
    "- [Inside AirBnB](http://insideairbnb.com/get-the-data.html)\n",
    "    - `October 3, 2015: listings.csv.gz` Archived\n",
    "- Dataquest.io: `dc_airbnb.csv`\n",
    "    - Cleaned to keep the essential columns only (from 92 to 19)"
   ]
  },
  {
   "cell_type": "markdown",
   "metadata": {},
   "source": [
    "## 1. Introducing the data"
   ]
  },
  {
   "cell_type": "code",
   "execution_count": 1,
   "metadata": {},
   "outputs": [],
   "source": [
    "import pandas as pd\n",
    "import numpy as np\n",
    "\n",
    "dc = pd.read_csv('data/dc_airbnb.csv')"
   ]
  },
  {
   "cell_type": "code",
   "execution_count": 2,
   "metadata": {},
   "outputs": [
    {
     "data": {
      "text/plain": [
       "19"
      ]
     },
     "execution_count": 2,
     "metadata": {},
     "output_type": "execute_result"
    }
   ],
   "source": [
    "len(dc.columns)"
   ]
  },
  {
   "cell_type": "code",
   "execution_count": 3,
   "metadata": {},
   "outputs": [
    {
     "data": {
      "text/plain": [
       "Index(['host_response_rate', 'host_acceptance_rate', 'host_listings_count',\n",
       "       'accommodates', 'room_type', 'bedrooms', 'bathrooms', 'beds', 'price',\n",
       "       'cleaning_fee', 'security_deposit', 'minimum_nights', 'maximum_nights',\n",
       "       'number_of_reviews', 'latitude', 'longitude', 'city', 'zipcode',\n",
       "       'state'],\n",
       "      dtype='object')"
      ]
     },
     "execution_count": 3,
     "metadata": {},
     "output_type": "execute_result"
    }
   ],
   "source": [
    "dc.columns"
   ]
  },
  {
   "cell_type": "code",
   "execution_count": 4,
   "metadata": {},
   "outputs": [
    {
     "data": {
      "text/plain": [
       "(3723, 19)"
      ]
     },
     "execution_count": 4,
     "metadata": {},
     "output_type": "execute_result"
    }
   ],
   "source": [
    "dc.shape"
   ]
  },
  {
   "cell_type": "code",
   "execution_count": 5,
   "metadata": {},
   "outputs": [
    {
     "data": {
      "text/plain": [
       "host_response_rate                  92%\n",
       "host_acceptance_rate                91%\n",
       "host_listings_count                  26\n",
       "accommodates                          4\n",
       "room_type               Entire home/apt\n",
       "bedrooms                              1\n",
       "bathrooms                             1\n",
       "beds                                  2\n",
       "price                           $160.00\n",
       "cleaning_fee                    $115.00\n",
       "security_deposit                $100.00\n",
       "minimum_nights                        1\n",
       "maximum_nights                     1125\n",
       "number_of_reviews                     0\n",
       "latitude                          38.89\n",
       "longitude                      -77.0028\n",
       "city                         Washington\n",
       "zipcode                           20003\n",
       "state                                DC\n",
       "Name: 0, dtype: object"
      ]
     },
     "execution_count": 5,
     "metadata": {},
     "output_type": "execute_result"
    }
   ],
   "source": [
    "# display first row\n",
    "dc.iloc[0]"
   ]
  },
  {
   "cell_type": "markdown",
   "metadata": {},
   "source": [
    "## 2. Euclidian distance\n",
    "\n",
    "Here's the strategy I wanted to use:\n",
    "- Find a few similar listings.\n",
    "- Calculate the average nightly rental price of these listings.\n",
    "- Set the average price as the price for my listing.\n",
    "\n",
    "When trying to predict a continuous value, like price, the main similarity metric that's used is Euclidean distance.\n",
    "$$\n",
    "d = \\sqrt{(q_1 - p_1)^2 + (q_2 - p_2)^2 + ... + (q_n - p_n)^2}\n",
    "$$\n",
    "\n",
    "In my case, since I am using one feature, the *univariate Euclidian distance* is:\n",
    "$$\n",
    "d = |q_1 - p_1|\n",
    "$$\n",
    "\n",
    "The living space that I want to rent can accommodate 3 people. I will first calculate the distance, using just the `accommodates` feature, between the first living space in the dataset and my own."
   ]
  },
  {
   "cell_type": "code",
   "execution_count": 6,
   "metadata": {},
   "outputs": [
    {
     "data": {
      "text/plain": [
       "1"
      ]
     },
     "execution_count": 6,
     "metadata": {},
     "output_type": "execute_result"
    }
   ],
   "source": [
    "my_acc = 3\n",
    "acc_1st = dc.iloc[0]['accommodates']\n",
    "euclid_1 = np.abs(acc_1st - my_acc)\n",
    "euclid_1"
   ]
  },
  {
   "cell_type": "markdown",
   "metadata": {},
   "source": [
    "- The lowest value $d$ can have is 0, meaning that $q_1 = p_1$\n",
    "- The closer to 0 the distance, the more similar the living spaces are\n",
    "- I can calculate the distance between my place and each place in the dataset and rank the result by ascending distance values\n",
    "    - The higher the ranking, the higher the similarity"
   ]
  },
  {
   "cell_type": "code",
   "execution_count": 7,
   "metadata": {},
   "outputs": [
    {
     "data": {
      "text/plain": [
       "1     2294\n",
       "2      503\n",
       "0      461\n",
       "3      279\n",
       "5       73\n",
       "4       35\n",
       "7       22\n",
       "6       17\n",
       "9       12\n",
       "13       8\n",
       "8        7\n",
       "12       6\n",
       "11       4\n",
       "10       2\n",
       "Name: euclid, dtype: int64"
      ]
     },
     "execution_count": 7,
     "metadata": {},
     "output_type": "execute_result"
    }
   ],
   "source": [
    "dc['euclid'] = dc['accommodates'].apply(\n",
    "    lambda x: np.abs(x - my_acc))\n",
    "dc['euclid'].value_counts()"
   ]
  },
  {
   "cell_type": "markdown",
   "metadata": {},
   "source": [
    "- There are 461 places that can accommodate 3 people, just like my place\n",
    "- I will now select only these entries"
   ]
  },
  {
   "cell_type": "code",
   "execution_count": 8,
   "metadata": {},
   "outputs": [
    {
     "data": {
      "text/plain": [
       "26      3\n",
       "34      3\n",
       "36      3\n",
       "40      3\n",
       "44      3\n",
       "       ..\n",
       "3675    3\n",
       "3697    3\n",
       "3707    3\n",
       "3714    3\n",
       "3722    3\n",
       "Name: accommodates, Length: 461, dtype: int64"
      ]
     },
     "execution_count": 8,
     "metadata": {},
     "output_type": "execute_result"
    }
   ],
   "source": [
    "dc[dc['euclid'] == 0]['accommodates']"
   ]
  },
  {
   "cell_type": "markdown",
   "metadata": {},
   "source": [
    "## 3. Randomizing and sorting\n",
    "\n",
    "- If I selected the first 5 living spaces with a eaclidian distance of 0, I would be biasing the result to the ordering of the dataset\n",
    "- Instead I will randomize the ordering of the dataset and then sort the dataset by the `euclid` column\n",
    "    - This means that all of the similar places will still be on top but in random order across the first 461 rows"
   ]
  },
  {
   "cell_type": "code",
   "execution_count": 9,
   "metadata": {},
   "outputs": [
    {
     "data": {
      "text/plain": [
       "577     $185.00\n",
       "2166    $180.00\n",
       "3631    $175.00\n",
       "71      $128.00\n",
       "1011    $115.00\n",
       "380     $219.00\n",
       "943     $125.00\n",
       "3107    $250.00\n",
       "1499     $94.00\n",
       "625     $150.00\n",
       "Name: price, dtype: object"
      ]
     },
     "execution_count": 9,
     "metadata": {},
     "output_type": "execute_result"
    }
   ],
   "source": [
    "np.random.seed(1)\n",
    "dc = dc.loc[np.random.permutation(len(dc))]\n",
    "dc = dc.sort_values('euclid')\n",
    "dc.iloc[0:10]['price']"
   ]
  },
  {
   "cell_type": "markdown",
   "metadata": {},
   "source": [
    "## 4. Calculating average price\n",
    "- Before I can select the 5 most similar living spaces and compute the average price, I need to clean the price column. \n",
    "- Right now, the price column \n",
    "    - contains comma characters (,) and dollar sign characters and \n",
    "    - is formatted as a text column instead of a numeric one. \n",
    "- I need to remove these values and convert the entire column to the float datatype. \n",
    "- Then, I can calculate the average price."
   ]
  },
  {
   "cell_type": "code",
   "execution_count": 10,
   "metadata": {},
   "outputs": [
    {
     "data": {
      "text/plain": [
       "156.6"
      ]
     },
     "execution_count": 10,
     "metadata": {},
     "output_type": "execute_result"
    }
   ],
   "source": [
    "remove_comma = dc['price'].str.replace(',', '')\n",
    "remove_dollar = remove_comma.str.replace('$', '')\n",
    "dc['price'] = remove_dollar.astype('float')\n",
    "avg_price = dc.iloc[0:5]['price'].mean()\n",
    "avg_price"
   ]
  },
  {
   "cell_type": "markdown",
   "metadata": {},
   "source": [
    "Based on the average price of other listings that accommdate 3 people, I should charge **$156.6** per night for a guest to stay at my living space.\n",
    "\n",
    "## 5. Designing a prediction function\n",
    "I will now write 3 general functions that will help me do the following:\n",
    "- clean the `price` column of the dataframe\n",
    "- randomize and sort the dataframe\n",
    "- suggest the optimal price for other values of the `accommodates` column. "
   ]
  },
  {
   "cell_type": "code",
   "execution_count": 23,
   "metadata": {},
   "outputs": [],
   "source": [
    "# data-cleaning function\n",
    "def price_cleaner(df):\n",
    "    no_comma = df['price'].str.replace(',', '')\n",
    "    no_dollar = no_comma.str.replace('$', '')\n",
    "    df['price'] = no_dollar.astype('float')\n",
    "    return df\n",
    "\n",
    "# randomizing-and-sorting function\n",
    "def random_sorter(df):\n",
    "    df = df.loc[np.random.permutation(len(df))]\n",
    "    return df\n",
    "\n",
    "# price-predicting function\n",
    "def price_predictor(df, listing):\n",
    "    df_copy = df.copy()\n",
    "    df_copy['euclid'] = df_copy['accommodates'].apply(\n",
    "        lambda x: np.abs(x - listing))\n",
    "    df_copy = df_copy.sort_values('euclid')\n",
    "    KNN_5 = df_copy.iloc[0:5]['price']\n",
    "    listing_price = KNN_5.mean()\n",
    "    return listing_price"
   ]
  },
  {
   "cell_type": "code",
   "execution_count": 25,
   "metadata": {},
   "outputs": [],
   "source": [
    "dc_1 = pd.read_csv('data/dc_airbnb.csv')"
   ]
  },
  {
   "cell_type": "code",
   "execution_count": 26,
   "metadata": {},
   "outputs": [
    {
     "data": {
      "text/html": [
       "<div>\n",
       "<style scoped>\n",
       "    .dataframe tbody tr th:only-of-type {\n",
       "        vertical-align: middle;\n",
       "    }\n",
       "\n",
       "    .dataframe tbody tr th {\n",
       "        vertical-align: top;\n",
       "    }\n",
       "\n",
       "    .dataframe thead th {\n",
       "        text-align: right;\n",
       "    }\n",
       "</style>\n",
       "<table border=\"1\" class=\"dataframe\">\n",
       "  <thead>\n",
       "    <tr style=\"text-align: right;\">\n",
       "      <th></th>\n",
       "      <th>host_response_rate</th>\n",
       "      <th>host_acceptance_rate</th>\n",
       "      <th>host_listings_count</th>\n",
       "      <th>accommodates</th>\n",
       "      <th>room_type</th>\n",
       "      <th>bedrooms</th>\n",
       "      <th>bathrooms</th>\n",
       "      <th>beds</th>\n",
       "      <th>price</th>\n",
       "      <th>cleaning_fee</th>\n",
       "      <th>security_deposit</th>\n",
       "      <th>minimum_nights</th>\n",
       "      <th>maximum_nights</th>\n",
       "      <th>number_of_reviews</th>\n",
       "      <th>latitude</th>\n",
       "      <th>longitude</th>\n",
       "      <th>city</th>\n",
       "      <th>zipcode</th>\n",
       "      <th>state</th>\n",
       "    </tr>\n",
       "  </thead>\n",
       "  <tbody>\n",
       "    <tr>\n",
       "      <th>0</th>\n",
       "      <td>92%</td>\n",
       "      <td>91%</td>\n",
       "      <td>26</td>\n",
       "      <td>4</td>\n",
       "      <td>Entire home/apt</td>\n",
       "      <td>1.0</td>\n",
       "      <td>1.0</td>\n",
       "      <td>2.0</td>\n",
       "      <td>160.0</td>\n",
       "      <td>$115.00</td>\n",
       "      <td>$100.00</td>\n",
       "      <td>1</td>\n",
       "      <td>1125</td>\n",
       "      <td>0</td>\n",
       "      <td>38.890046</td>\n",
       "      <td>-77.002808</td>\n",
       "      <td>Washington</td>\n",
       "      <td>20003</td>\n",
       "      <td>DC</td>\n",
       "    </tr>\n",
       "    <tr>\n",
       "      <th>1</th>\n",
       "      <td>90%</td>\n",
       "      <td>100%</td>\n",
       "      <td>1</td>\n",
       "      <td>6</td>\n",
       "      <td>Entire home/apt</td>\n",
       "      <td>3.0</td>\n",
       "      <td>3.0</td>\n",
       "      <td>3.0</td>\n",
       "      <td>350.0</td>\n",
       "      <td>$100.00</td>\n",
       "      <td>NaN</td>\n",
       "      <td>2</td>\n",
       "      <td>30</td>\n",
       "      <td>65</td>\n",
       "      <td>38.880413</td>\n",
       "      <td>-76.990485</td>\n",
       "      <td>Washington</td>\n",
       "      <td>20003</td>\n",
       "      <td>DC</td>\n",
       "    </tr>\n",
       "    <tr>\n",
       "      <th>2</th>\n",
       "      <td>90%</td>\n",
       "      <td>100%</td>\n",
       "      <td>2</td>\n",
       "      <td>1</td>\n",
       "      <td>Private room</td>\n",
       "      <td>1.0</td>\n",
       "      <td>2.0</td>\n",
       "      <td>1.0</td>\n",
       "      <td>50.0</td>\n",
       "      <td>NaN</td>\n",
       "      <td>NaN</td>\n",
       "      <td>2</td>\n",
       "      <td>1125</td>\n",
       "      <td>1</td>\n",
       "      <td>38.955291</td>\n",
       "      <td>-76.986006</td>\n",
       "      <td>Hyattsville</td>\n",
       "      <td>20782</td>\n",
       "      <td>MD</td>\n",
       "    </tr>\n",
       "    <tr>\n",
       "      <th>3</th>\n",
       "      <td>100%</td>\n",
       "      <td>NaN</td>\n",
       "      <td>1</td>\n",
       "      <td>2</td>\n",
       "      <td>Private room</td>\n",
       "      <td>1.0</td>\n",
       "      <td>1.0</td>\n",
       "      <td>1.0</td>\n",
       "      <td>95.0</td>\n",
       "      <td>NaN</td>\n",
       "      <td>NaN</td>\n",
       "      <td>1</td>\n",
       "      <td>1125</td>\n",
       "      <td>0</td>\n",
       "      <td>38.872134</td>\n",
       "      <td>-77.019639</td>\n",
       "      <td>Washington</td>\n",
       "      <td>20024</td>\n",
       "      <td>DC</td>\n",
       "    </tr>\n",
       "    <tr>\n",
       "      <th>4</th>\n",
       "      <td>92%</td>\n",
       "      <td>67%</td>\n",
       "      <td>1</td>\n",
       "      <td>4</td>\n",
       "      <td>Entire home/apt</td>\n",
       "      <td>1.0</td>\n",
       "      <td>1.0</td>\n",
       "      <td>1.0</td>\n",
       "      <td>50.0</td>\n",
       "      <td>$15.00</td>\n",
       "      <td>$450.00</td>\n",
       "      <td>7</td>\n",
       "      <td>1125</td>\n",
       "      <td>0</td>\n",
       "      <td>38.996382</td>\n",
       "      <td>-77.041541</td>\n",
       "      <td>Silver Spring</td>\n",
       "      <td>20910</td>\n",
       "      <td>MD</td>\n",
       "    </tr>\n",
       "  </tbody>\n",
       "</table>\n",
       "</div>"
      ],
      "text/plain": [
       "  host_response_rate host_acceptance_rate  host_listings_count  accommodates  \\\n",
       "0                92%                  91%                   26             4   \n",
       "1                90%                 100%                    1             6   \n",
       "2                90%                 100%                    2             1   \n",
       "3               100%                  NaN                    1             2   \n",
       "4                92%                  67%                    1             4   \n",
       "\n",
       "         room_type  bedrooms  bathrooms  beds  price cleaning_fee  \\\n",
       "0  Entire home/apt       1.0        1.0   2.0  160.0      $115.00   \n",
       "1  Entire home/apt       3.0        3.0   3.0  350.0      $100.00   \n",
       "2     Private room       1.0        2.0   1.0   50.0          NaN   \n",
       "3     Private room       1.0        1.0   1.0   95.0          NaN   \n",
       "4  Entire home/apt       1.0        1.0   1.0   50.0       $15.00   \n",
       "\n",
       "  security_deposit  minimum_nights  maximum_nights  number_of_reviews  \\\n",
       "0          $100.00               1            1125                  0   \n",
       "1              NaN               2              30                 65   \n",
       "2              NaN               2            1125                  1   \n",
       "3              NaN               1            1125                  0   \n",
       "4          $450.00               7            1125                  0   \n",
       "\n",
       "    latitude  longitude           city zipcode state  \n",
       "0  38.890046 -77.002808     Washington   20003    DC  \n",
       "1  38.880413 -76.990485     Washington   20003    DC  \n",
       "2  38.955291 -76.986006    Hyattsville   20782    MD  \n",
       "3  38.872134 -77.019639     Washington   20024    DC  \n",
       "4  38.996382 -77.041541  Silver Spring   20910    MD  "
      ]
     },
     "execution_count": 26,
     "metadata": {},
     "output_type": "execute_result"
    }
   ],
   "source": [
    "dc1_clean = price_cleaner(dc_1)\n",
    "dc1_clean.head()"
   ]
  },
  {
   "cell_type": "code",
   "execution_count": 27,
   "metadata": {},
   "outputs": [
    {
     "data": {
      "text/html": [
       "<div>\n",
       "<style scoped>\n",
       "    .dataframe tbody tr th:only-of-type {\n",
       "        vertical-align: middle;\n",
       "    }\n",
       "\n",
       "    .dataframe tbody tr th {\n",
       "        vertical-align: top;\n",
       "    }\n",
       "\n",
       "    .dataframe thead th {\n",
       "        text-align: right;\n",
       "    }\n",
       "</style>\n",
       "<table border=\"1\" class=\"dataframe\">\n",
       "  <thead>\n",
       "    <tr style=\"text-align: right;\">\n",
       "      <th></th>\n",
       "      <th>host_response_rate</th>\n",
       "      <th>host_acceptance_rate</th>\n",
       "      <th>host_listings_count</th>\n",
       "      <th>accommodates</th>\n",
       "      <th>room_type</th>\n",
       "      <th>bedrooms</th>\n",
       "      <th>bathrooms</th>\n",
       "      <th>beds</th>\n",
       "      <th>price</th>\n",
       "      <th>cleaning_fee</th>\n",
       "      <th>security_deposit</th>\n",
       "      <th>minimum_nights</th>\n",
       "      <th>maximum_nights</th>\n",
       "      <th>number_of_reviews</th>\n",
       "      <th>latitude</th>\n",
       "      <th>longitude</th>\n",
       "      <th>city</th>\n",
       "      <th>zipcode</th>\n",
       "      <th>state</th>\n",
       "    </tr>\n",
       "  </thead>\n",
       "  <tbody>\n",
       "    <tr>\n",
       "      <th>108</th>\n",
       "      <td>100%</td>\n",
       "      <td>100%</td>\n",
       "      <td>1</td>\n",
       "      <td>3</td>\n",
       "      <td>Shared room</td>\n",
       "      <td>1.0</td>\n",
       "      <td>1.0</td>\n",
       "      <td>3.0</td>\n",
       "      <td>89.0</td>\n",
       "      <td>$30.00</td>\n",
       "      <td>$95.00</td>\n",
       "      <td>1</td>\n",
       "      <td>1125</td>\n",
       "      <td>1</td>\n",
       "      <td>38.895800</td>\n",
       "      <td>-77.011522</td>\n",
       "      <td>Washington</td>\n",
       "      <td>20001</td>\n",
       "      <td>DC</td>\n",
       "    </tr>\n",
       "    <tr>\n",
       "      <th>1319</th>\n",
       "      <td>100%</td>\n",
       "      <td>100%</td>\n",
       "      <td>1</td>\n",
       "      <td>2</td>\n",
       "      <td>Entire home/apt</td>\n",
       "      <td>1.0</td>\n",
       "      <td>1.5</td>\n",
       "      <td>1.0</td>\n",
       "      <td>150.0</td>\n",
       "      <td>$80.00</td>\n",
       "      <td>$1,000.00</td>\n",
       "      <td>3</td>\n",
       "      <td>1125</td>\n",
       "      <td>24</td>\n",
       "      <td>38.916144</td>\n",
       "      <td>-77.028581</td>\n",
       "      <td>Washington</td>\n",
       "      <td>20009</td>\n",
       "      <td>DC</td>\n",
       "    </tr>\n",
       "    <tr>\n",
       "      <th>2909</th>\n",
       "      <td>NaN</td>\n",
       "      <td>NaN</td>\n",
       "      <td>1</td>\n",
       "      <td>1</td>\n",
       "      <td>Private room</td>\n",
       "      <td>1.0</td>\n",
       "      <td>0.5</td>\n",
       "      <td>1.0</td>\n",
       "      <td>45.0</td>\n",
       "      <td>NaN</td>\n",
       "      <td>NaN</td>\n",
       "      <td>1</td>\n",
       "      <td>1125</td>\n",
       "      <td>3</td>\n",
       "      <td>38.932779</td>\n",
       "      <td>-77.029333</td>\n",
       "      <td>Washington</td>\n",
       "      <td>20010</td>\n",
       "      <td>DC</td>\n",
       "    </tr>\n",
       "    <tr>\n",
       "      <th>1475</th>\n",
       "      <td>100%</td>\n",
       "      <td>100%</td>\n",
       "      <td>1</td>\n",
       "      <td>2</td>\n",
       "      <td>Private room</td>\n",
       "      <td>1.0</td>\n",
       "      <td>1.0</td>\n",
       "      <td>1.0</td>\n",
       "      <td>100.0</td>\n",
       "      <td>$25.00</td>\n",
       "      <td>NaN</td>\n",
       "      <td>2</td>\n",
       "      <td>1125</td>\n",
       "      <td>0</td>\n",
       "      <td>38.879302</td>\n",
       "      <td>-77.017651</td>\n",
       "      <td>Washington</td>\n",
       "      <td>20024</td>\n",
       "      <td>DC</td>\n",
       "    </tr>\n",
       "    <tr>\n",
       "      <th>354</th>\n",
       "      <td>100%</td>\n",
       "      <td>100%</td>\n",
       "      <td>1</td>\n",
       "      <td>2</td>\n",
       "      <td>Private room</td>\n",
       "      <td>1.0</td>\n",
       "      <td>1.0</td>\n",
       "      <td>1.0</td>\n",
       "      <td>115.0</td>\n",
       "      <td>NaN</td>\n",
       "      <td>NaN</td>\n",
       "      <td>1</td>\n",
       "      <td>5</td>\n",
       "      <td>10</td>\n",
       "      <td>38.899993</td>\n",
       "      <td>-77.054758</td>\n",
       "      <td>Washington</td>\n",
       "      <td>20037</td>\n",
       "      <td>DC</td>\n",
       "    </tr>\n",
       "  </tbody>\n",
       "</table>\n",
       "</div>"
      ],
      "text/plain": [
       "     host_response_rate host_acceptance_rate  host_listings_count  \\\n",
       "108                100%                 100%                    1   \n",
       "1319               100%                 100%                    1   \n",
       "2909                NaN                  NaN                    1   \n",
       "1475               100%                 100%                    1   \n",
       "354                100%                 100%                    1   \n",
       "\n",
       "      accommodates        room_type  bedrooms  bathrooms  beds  price  \\\n",
       "108              3      Shared room       1.0        1.0   3.0   89.0   \n",
       "1319             2  Entire home/apt       1.0        1.5   1.0  150.0   \n",
       "2909             1     Private room       1.0        0.5   1.0   45.0   \n",
       "1475             2     Private room       1.0        1.0   1.0  100.0   \n",
       "354              2     Private room       1.0        1.0   1.0  115.0   \n",
       "\n",
       "     cleaning_fee security_deposit  minimum_nights  maximum_nights  \\\n",
       "108        $30.00           $95.00               1            1125   \n",
       "1319       $80.00        $1,000.00               3            1125   \n",
       "2909          NaN              NaN               1            1125   \n",
       "1475       $25.00              NaN               2            1125   \n",
       "354           NaN              NaN               1               5   \n",
       "\n",
       "      number_of_reviews   latitude  longitude        city zipcode state  \n",
       "108                   1  38.895800 -77.011522  Washington   20001    DC  \n",
       "1319                 24  38.916144 -77.028581  Washington   20009    DC  \n",
       "2909                  3  38.932779 -77.029333  Washington   20010    DC  \n",
       "1475                  0  38.879302 -77.017651  Washington   20024    DC  \n",
       "354                  10  38.899993 -77.054758  Washington   20037    DC  "
      ]
     },
     "execution_count": 27,
     "metadata": {},
     "output_type": "execute_result"
    }
   ],
   "source": [
    "dc1_sorted = random_sorter(dc1_clean)\n",
    "dc1_sorted.head()"
   ]
  },
  {
   "cell_type": "code",
   "execution_count": 38,
   "metadata": {},
   "outputs": [
    {
     "data": {
      "text/plain": [
       "409.6"
      ]
     },
     "execution_count": 38,
     "metadata": {},
     "output_type": "execute_result"
    }
   ],
   "source": [
    "acc_n_price = price_predictor(dc1_sorted, 9)\n",
    "acc_n_price"
   ]
  },
  {
   "cell_type": "markdown",
   "metadata": {},
   "source": [
    "## 6. Analyzing predicted prices"
   ]
  },
  {
   "cell_type": "code",
   "execution_count": 47,
   "metadata": {},
   "outputs": [],
   "source": [
    "# create a new dataframe\n",
    "listings = pd.DataFrame() \n",
    "\n",
    "# add column of n people to accomodate\n",
    "listings['n_acc'] = np.arange(1,13)"
   ]
  },
  {
   "cell_type": "code",
   "execution_count": 65,
   "metadata": {},
   "outputs": [
    {
     "data": {
      "text/html": [
       "<div>\n",
       "<style scoped>\n",
       "    .dataframe tbody tr th:only-of-type {\n",
       "        vertical-align: middle;\n",
       "    }\n",
       "\n",
       "    .dataframe tbody tr th {\n",
       "        vertical-align: top;\n",
       "    }\n",
       "\n",
       "    .dataframe thead th {\n",
       "        text-align: right;\n",
       "    }\n",
       "</style>\n",
       "<table border=\"1\" class=\"dataframe\">\n",
       "  <thead>\n",
       "    <tr style=\"text-align: right;\">\n",
       "      <th></th>\n",
       "      <th>n_acc</th>\n",
       "      <th>n_price</th>\n",
       "    </tr>\n",
       "  </thead>\n",
       "  <tbody>\n",
       "    <tr>\n",
       "      <th>0</th>\n",
       "      <td>1</td>\n",
       "      <td>60.4</td>\n",
       "    </tr>\n",
       "    <tr>\n",
       "      <th>1</th>\n",
       "      <td>2</td>\n",
       "      <td>127.0</td>\n",
       "    </tr>\n",
       "    <tr>\n",
       "      <th>2</th>\n",
       "      <td>3</td>\n",
       "      <td>190.0</td>\n",
       "    </tr>\n",
       "    <tr>\n",
       "      <th>3</th>\n",
       "      <td>4</td>\n",
       "      <td>181.2</td>\n",
       "    </tr>\n",
       "    <tr>\n",
       "      <th>4</th>\n",
       "      <td>5</td>\n",
       "      <td>143.0</td>\n",
       "    </tr>\n",
       "    <tr>\n",
       "      <th>5</th>\n",
       "      <td>6</td>\n",
       "      <td>211.8</td>\n",
       "    </tr>\n",
       "    <tr>\n",
       "      <th>6</th>\n",
       "      <td>7</td>\n",
       "      <td>302.0</td>\n",
       "    </tr>\n",
       "    <tr>\n",
       "      <th>7</th>\n",
       "      <td>8</td>\n",
       "      <td>317.6</td>\n",
       "    </tr>\n",
       "    <tr>\n",
       "      <th>8</th>\n",
       "      <td>9</td>\n",
       "      <td>409.6</td>\n",
       "    </tr>\n",
       "    <tr>\n",
       "      <th>9</th>\n",
       "      <td>10</td>\n",
       "      <td>307.4</td>\n",
       "    </tr>\n",
       "    <tr>\n",
       "      <th>10</th>\n",
       "      <td>11</td>\n",
       "      <td>799.4</td>\n",
       "    </tr>\n",
       "    <tr>\n",
       "      <th>11</th>\n",
       "      <td>12</td>\n",
       "      <td>259.0</td>\n",
       "    </tr>\n",
       "  </tbody>\n",
       "</table>\n",
       "</div>"
      ],
      "text/plain": [
       "    n_acc  n_price\n",
       "0       1     60.4\n",
       "1       2    127.0\n",
       "2       3    190.0\n",
       "3       4    181.2\n",
       "4       5    143.0\n",
       "5       6    211.8\n",
       "6       7    302.0\n",
       "7       8    317.6\n",
       "8       9    409.6\n",
       "9      10    307.4\n",
       "10     11    799.4\n",
       "11     12    259.0"
      ]
     },
     "execution_count": 65,
     "metadata": {},
     "output_type": "execute_result"
    }
   ],
   "source": [
    "# create empty list to populate calculated prices\n",
    "m_list = []\n",
    "for n in np.arange(1,13):\n",
    "    m = price_predictor(dc1_sorted, n)\n",
    "    m_list.append(m)\n",
    "\n",
    "# new dataframe for prices\n",
    "listings_ = pd.DataFrame()\n",
    "listings_['n_price'] = m_list\n",
    "\n",
    "# add prices to listings df\n",
    "listings['n_price'] = listings_['n_price']\n",
    "\n",
    "# show listings\n",
    "listings"
   ]
  },
  {
   "cell_type": "code",
   "execution_count": 69,
   "metadata": {},
   "outputs": [
    {
     "data": {
      "text/plain": [
       "<AxesSubplot:xlabel='n_acc', ylabel='n_price'>"
      ]
     },
     "execution_count": 69,
     "metadata": {},
     "output_type": "execute_result"
    },
    {
     "data": {
      "image/png": "[encoded data removed]",
      "text/plain": [
       "<Figure size 432x288 with 1 Axes>"
      ]
     },
     "metadata": {},
     "output_type": "display_data"
    }
   ],
   "source": [
    "import seaborn as sns; sns.set()\n",
    "import matplotlib.pyplot as plt\n",
    "\n",
    "sns.lineplot(x='n_acc', y='n_price', data=listings)"
   ]
  },
  {
   "cell_type": "markdown",
   "metadata": {},
   "source": [
    "Generally speaking, as the number of people a listing can accommodate, the price goes up. This makes sense. However, there is a problem with n>9. \n",
    "- First of all when n=10 or 12, the prices are abnormally low\n",
    "- Second, for n=11 the price is very high\n",
    "\n",
    "This could be due to the fact that we don't have enough data to accurately predict the price. It could also be because we are averaging only the first 5 neighbors which is prone to having outliers"
   ]
  }
 ],
 "metadata": {
  "kernelspec": {
   "display_name": "Python 3",
   "language": "python",
   "name": "python3"
  },
  "language_info": {
   "codemirror_mode": {
    "name": "ipython",
    "version": 3
   },
   "file_extension": ".py",
   "mimetype": "text/x-python",
   "name": "python",
   "nbconvert_exporter": "python",
   "pygments_lexer": "ipython3",
   "version": "3.7.7"
  }
 },
 "nbformat": 4,
 "nbformat_minor": 4
}
