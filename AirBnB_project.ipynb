{
 "cells": [
  {
   "cell_type": "markdown",
   "metadata": {},
   "source": [
    "# AIRBNB PROJECT\n",
    "---\n",
    "As an AirBnB host I want to:\n",
    "- find listings that are similar to mine\n",
    "- average the listings' prices \n",
    "- set my place's price to the averaged price\n",
    "\n",
    "This makes sure that I don't lose business because my price is too high but it also makes sure that I don't lose money because I set the price too low.\n",
    "\n",
    "Machine Learning Model: `K-Nearest Neighbors` - unsupervised model\n",
    "\n",
    "Data: \n",
    "- [Inside AirBnB](http://insideairbnb.com/get-the-data.html)\n",
    "    - `October 3, 2015: listings.csv.gz` Archived\n",
    "- Dataquest.io: `dc_airbnb.csv`\n",
    "    - Cleaned to keep the essential columns only (from 92 to 19)"
   ]
  },
  {
   "cell_type": "markdown",
   "metadata": {},
   "source": [
    "## 1. Data Exploration\n",
    "\n",
    "### 1.1 Introducing the data"
   ]
  },
  {
   "cell_type": "code",
   "execution_count": 1,
   "metadata": {},
   "outputs": [],
   "source": [
    "import pandas as pd\n",
    "import numpy as np\n",
    "\n",
    "dc = pd.read_csv('data/dc_airbnb.csv')"
   ]
  },
  {
   "cell_type": "code",
   "execution_count": 2,
   "metadata": {},
   "outputs": [
    {
     "data": {
      "text/plain": [
       "19"
      ]
     },
     "execution_count": 2,
     "metadata": {},
     "output_type": "execute_result"
    }
   ],
   "source": [
    "len(dc.columns)"
   ]
  },
  {
   "cell_type": "code",
   "execution_count": 3,
   "metadata": {},
   "outputs": [
    {
     "data": {
      "text/plain": [
       "Index(['host_response_rate', 'host_acceptance_rate', 'host_listings_count',\n",
       "       'accommodates', 'room_type', 'bedrooms', 'bathrooms', 'beds', 'price',\n",
       "       'cleaning_fee', 'security_deposit', 'minimum_nights', 'maximum_nights',\n",
       "       'number_of_reviews', 'latitude', 'longitude', 'city', 'zipcode',\n",
       "       'state'],\n",
       "      dtype='object')"
      ]
     },
     "execution_count": 3,
     "metadata": {},
     "output_type": "execute_result"
    }
   ],
   "source": [
    "dc.columns"
   ]
  },
  {
   "cell_type": "code",
   "execution_count": 4,
   "metadata": {},
   "outputs": [
    {
     "data": {
      "text/plain": [
       "(3723, 19)"
      ]
     },
     "execution_count": 4,
     "metadata": {},
     "output_type": "execute_result"
    }
   ],
   "source": [
    "dc.shape"
   ]
  },
  {
   "cell_type": "code",
   "execution_count": 5,
   "metadata": {},
   "outputs": [
    {
     "data": {
      "text/plain": [
       "host_response_rate                  92%\n",
       "host_acceptance_rate                91%\n",
       "host_listings_count                  26\n",
       "accommodates                          4\n",
       "room_type               Entire home/apt\n",
       "bedrooms                              1\n",
       "bathrooms                             1\n",
       "beds                                  2\n",
       "price                           $160.00\n",
       "cleaning_fee                    $115.00\n",
       "security_deposit                $100.00\n",
       "minimum_nights                        1\n",
       "maximum_nights                     1125\n",
       "number_of_reviews                     0\n",
       "latitude                          38.89\n",
       "longitude                      -77.0028\n",
       "city                         Washington\n",
       "zipcode                           20003\n",
       "state                                DC\n",
       "Name: 0, dtype: object"
      ]
     },
     "execution_count": 5,
     "metadata": {},
     "output_type": "execute_result"
    }
   ],
   "source": [
    "# display first row\n",
    "dc.iloc[0]"
   ]
  },
  {
   "cell_type": "markdown",
   "metadata": {},
   "source": [
    "### 1.2 Euclidian distance\n",
    "\n",
    "Here's the strategy I wanted to use:\n",
    "- Find a few similar listings.\n",
    "- Calculate the average nightly rental price of these listings.\n",
    "- Set the average price as the price for my listing.\n",
    "\n",
    "When trying to predict a continuous value, like price, the main similarity metric that's used is Euclidean distance.\n",
    "$$\n",
    "d = \\sqrt{(q_1 - p_1)^2 + (q_2 - p_2)^2 + ... + (q_n - p_n)^2}\n",
    "$$\n",
    "\n",
    "In my case, since I am using one feature, the *univariate Euclidian distance* is:\n",
    "$$\n",
    "d = |q_1 - p_1|\n",
    "$$\n",
    "\n",
    "The living space that we want to rent can accommodate 3 people. Let's first calculate the distance, using just the accommodates feature, between the first living space in the dataset and our own."
   ]
  },
  {
   "cell_type": "code",
   "execution_count": null,
   "metadata": {},
   "outputs": [],
   "source": []
  }
 ],
 "metadata": {
  "kernelspec": {
   "display_name": "Python 3",
   "language": "python",
   "name": "python3"
  },
  "language_info": {
   "codemirror_mode": {
    "name": "ipython",
    "version": 3
   },
   "file_extension": ".py",
   "mimetype": "text/x-python",
   "name": "python",
   "nbconvert_exporter": "python",
   "pygments_lexer": "ipython3",
   "version": "3.7.7"
  }
 },
 "nbformat": 4,
 "nbformat_minor": 4
}
