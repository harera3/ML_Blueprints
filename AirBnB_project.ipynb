{
 "cells": [
  {
   "cell_type": "markdown",
   "metadata": {},
   "source": [
    "# AIRBNB PROJECT\n",
    "---\n",
    "As an AirBnB host I want to:\n",
    "- find listings that are similar to mine\n",
    "- average the listings' prices \n",
    "- set my place's price to the averaged price\n",
    "\n",
    "This makes sure that I don't lose business because my price is too high but it also makes sure that I don't lose money because I set the price too low.\n",
    "\n",
    "Machine Learning Model: `K-Nearest Neighbors` - unsupervised model\n",
    "\n",
    "Data: \n",
    "- [Inside AirBnB](http://insideairbnb.com/get-the-data.html)\n",
    "    - `October 3, 2015: listings.csv.gz` Archived\n",
    "- Dataquest.io: `dc_airbnb.csv`\n",
    "    - Cleaned to keep the essential columns only (from 92 to 19)"
   ]
  },
  {
   "cell_type": "markdown",
   "metadata": {},
   "source": [
    "## 1. Introducing the data"
   ]
  },
  {
   "cell_type": "code",
   "execution_count": 1,
   "metadata": {},
   "outputs": [],
   "source": [
    "import pandas as pd\n",
    "import numpy as np\n",
    "\n",
    "dc = pd.read_csv('data/dc_airbnb.csv')"
   ]
  },
  {
   "cell_type": "code",
   "execution_count": 2,
   "metadata": {},
   "outputs": [
    {
     "data": {
      "text/plain": [
       "19"
      ]
     },
     "execution_count": 2,
     "metadata": {},
     "output_type": "execute_result"
    }
   ],
   "source": [
    "len(dc.columns)"
   ]
  },
  {
   "cell_type": "code",
   "execution_count": 3,
   "metadata": {},
   "outputs": [
    {
     "data": {
      "text/plain": [
       "Index(['host_response_rate', 'host_acceptance_rate', 'host_listings_count',\n",
       "       'accommodates', 'room_type', 'bedrooms', 'bathrooms', 'beds', 'price',\n",
       "       'cleaning_fee', 'security_deposit', 'minimum_nights', 'maximum_nights',\n",
       "       'number_of_reviews', 'latitude', 'longitude', 'city', 'zipcode',\n",
       "       'state'],\n",
       "      dtype='object')"
      ]
     },
     "execution_count": 3,
     "metadata": {},
     "output_type": "execute_result"
    }
   ],
   "source": [
    "dc.columns"
   ]
  },
  {
   "cell_type": "code",
   "execution_count": 4,
   "metadata": {},
   "outputs": [
    {
     "data": {
      "text/plain": [
       "(3723, 19)"
      ]
     },
     "execution_count": 4,
     "metadata": {},
     "output_type": "execute_result"
    }
   ],
   "source": [
    "dc.shape"
   ]
  },
  {
   "cell_type": "code",
   "execution_count": 5,
   "metadata": {},
   "outputs": [
    {
     "data": {
      "text/plain": [
       "host_response_rate                  92%\n",
       "host_acceptance_rate                91%\n",
       "host_listings_count                  26\n",
       "accommodates                          4\n",
       "room_type               Entire home/apt\n",
       "bedrooms                              1\n",
       "bathrooms                             1\n",
       "beds                                  2\n",
       "price                           $160.00\n",
       "cleaning_fee                    $115.00\n",
       "security_deposit                $100.00\n",
       "minimum_nights                        1\n",
       "maximum_nights                     1125\n",
       "number_of_reviews                     0\n",
       "latitude                          38.89\n",
       "longitude                      -77.0028\n",
       "city                         Washington\n",
       "zipcode                           20003\n",
       "state                                DC\n",
       "Name: 0, dtype: object"
      ]
     },
     "execution_count": 5,
     "metadata": {},
     "output_type": "execute_result"
    }
   ],
   "source": [
    "# display first row\n",
    "dc.iloc[0]"
   ]
  },
  {
   "cell_type": "markdown",
   "metadata": {},
   "source": [
    "## 2. Euclidian distance\n",
    "\n",
    "Here's the strategy I wanted to use:\n",
    "- Find a few similar listings.\n",
    "- Calculate the average nightly rental price of these listings.\n",
    "- Set the average price as the price for my listing.\n",
    "\n",
    "When trying to predict a continuous value, like price, the main similarity metric that's used is Euclidean distance.\n",
    "$$\n",
    "d = \\sqrt{(q_1 - p_1)^2 + (q_2 - p_2)^2 + ... + (q_n - p_n)^2}\n",
    "$$\n",
    "\n",
    "In my case, since I am using one feature, the *univariate Euclidian distance* is:\n",
    "$$\n",
    "d = |q_1 - p_1|\n",
    "$$\n",
    "\n",
    "The living space that I want to rent can accommodate 3 people. I will first calculate the distance, using just the `accommodates` feature, between the first living space in the dataset and my own."
   ]
  },
  {
   "cell_type": "code",
   "execution_count": 6,
   "metadata": {},
   "outputs": [
    {
     "data": {
      "text/plain": [
       "1"
      ]
     },
     "execution_count": 6,
     "metadata": {},
     "output_type": "execute_result"
    }
   ],
   "source": [
    "my_acc = 3\n",
    "acc_1st = dc.iloc[0]['accommodates']\n",
    "euclid_1 = np.abs(acc_1st - my_acc)\n",
    "euclid_1"
   ]
  },
  {
   "cell_type": "markdown",
   "metadata": {},
   "source": [
    "- The lowest value $d$ can have is 0, meaning that $q_1 = p_1$\n",
    "- The closer to 0 the distance, the more similar the living spaces are\n",
    "- I can calculate the distance between my place and each place in the dataset and rank the result by ascending distance values\n",
    "    - The higher the ranking, the higher the similarity"
   ]
  },
  {
   "cell_type": "code",
   "execution_count": 7,
   "metadata": {},
   "outputs": [
    {
     "data": {
      "text/plain": [
       "1     2294\n",
       "2      503\n",
       "0      461\n",
       "3      279\n",
       "5       73\n",
       "4       35\n",
       "7       22\n",
       "6       17\n",
       "9       12\n",
       "13       8\n",
       "8        7\n",
       "12       6\n",
       "11       4\n",
       "10       2\n",
       "Name: euclid, dtype: int64"
      ]
     },
     "execution_count": 7,
     "metadata": {},
     "output_type": "execute_result"
    }
   ],
   "source": [
    "dc['euclid'] = dc['accommodates'].apply(\n",
    "    lambda x: np.abs(x - my_acc))\n",
    "dc['euclid'].value_counts()"
   ]
  },
  {
   "cell_type": "markdown",
   "metadata": {},
   "source": [
    "- There are 461 places that can accommodate 3 people, just like my place\n",
    "- I will now select only these entries"
   ]
  },
  {
   "cell_type": "code",
   "execution_count": 8,
   "metadata": {},
   "outputs": [
    {
     "data": {
      "text/plain": [
       "26      3\n",
       "34      3\n",
       "36      3\n",
       "40      3\n",
       "44      3\n",
       "       ..\n",
       "3675    3\n",
       "3697    3\n",
       "3707    3\n",
       "3714    3\n",
       "3722    3\n",
       "Name: accommodates, Length: 461, dtype: int64"
      ]
     },
     "execution_count": 8,
     "metadata": {},
     "output_type": "execute_result"
    }
   ],
   "source": [
    "dc[dc['euclid'] == 0]['accommodates']"
   ]
  },
  {
   "cell_type": "markdown",
   "metadata": {},
   "source": [
    "## 3. Randomizing and sorting\n",
    "\n",
    "- If I selected the first 5 living spaces with a eaclidian distance of 0, I would be biasing the result to the ordering of the dataset\n",
    "- Instead I will randomize the ordering of the dataset and then sort the dataset by the `euclid` column\n",
    "    - This means that all of the similar places will still be on top but in random order across the first 461 rows"
   ]
  },
  {
   "cell_type": "code",
   "execution_count": 12,
   "metadata": {},
   "outputs": [
    {
     "data": {
      "text/plain": [
       "577     $185.00\n",
       "2166    $180.00\n",
       "3631    $175.00\n",
       "71      $128.00\n",
       "1011    $115.00\n",
       "380     $219.00\n",
       "943     $125.00\n",
       "3107    $250.00\n",
       "1499     $94.00\n",
       "625     $150.00\n",
       "Name: price, dtype: object"
      ]
     },
     "execution_count": 12,
     "metadata": {},
     "output_type": "execute_result"
    }
   ],
   "source": [
    "np.random.seed(1)\n",
    "dc = dc.loc[np.random.permutation(len(dc))]\n",
    "dc = dc.sort_values('euclid')\n",
    "dc.iloc[0:10]['price']"
   ]
  },
  {
   "cell_type": "markdown",
   "metadata": {},
   "source": [
    "## 4. Calculating average price\n",
    "- Before I can select the 5 most similar living spaces and compute the average price, I need to clean the price column. \n",
    "- Right now, the price column \n",
    "    - contains comma characters (,) and dollar sign characters and \n",
    "    - is formatted as a text column instead of a numeric one. \n",
    "- I need to remove these values and convert the entire column to the float datatype. \n",
    "- Then, I can calculate the average price."
   ]
  },
  {
   "cell_type": "code",
   "execution_count": 13,
   "metadata": {},
   "outputs": [
    {
     "data": {
      "text/plain": [
       "156.6"
      ]
     },
     "execution_count": 13,
     "metadata": {},
     "output_type": "execute_result"
    }
   ],
   "source": [
    "remove_comma = dc['price'].str.replace(',', '')\n",
    "remove_dollar = remove_comma.str.replace('$', '')\n",
    "dc['price'] = remove_dollar.astype('float')\n",
    "avg_price = dc.iloc[0:5]['price'].mean()\n",
    "avg_price"
   ]
  },
  {
   "cell_type": "markdown",
   "metadata": {},
   "source": [
    "Based on the average price of other listings that accommdate 3 people, I should charge **$156.6** per night for a guest to stay at my living space.\n",
    "\n",
    "## 5. Designing a prediction function\n",
    "I will now write a more general function that can suggest the optimal price for other values of the `accommodates` column. "
   ]
  },
  {
   "cell_type": "code",
   "execution_count": 16,
   "metadata": {},
   "outputs": [
    {
     "ename": "TypeError",
     "evalue": "price_predictor() missing 1 required positional argument: 'listing'",
     "output_type": "error",
     "traceback": [
      "\u001b[1;31m---------------------------------------------------------------------------\u001b[0m",
      "\u001b[1;31mTypeError\u001b[0m                                 Traceback (most recent call last)",
      "\u001b[1;32m<ipython-input-16-adfdb9c7a93f>\u001b[0m in \u001b[0;36m<module>\u001b[1;34m\u001b[0m\n\u001b[0;32m     31\u001b[0m \u001b[0mdc1\u001b[0m \u001b[1;33m=\u001b[0m \u001b[0mpd\u001b[0m\u001b[1;33m.\u001b[0m\u001b[0mread_csv\u001b[0m\u001b[1;33m(\u001b[0m\u001b[1;34m'data/dc_airbnb.csv'\u001b[0m\u001b[1;33m)\u001b[0m\u001b[1;33m\u001b[0m\u001b[1;33m\u001b[0m\u001b[0m\n\u001b[0;32m     32\u001b[0m \u001b[0maccommodates_4\u001b[0m \u001b[1;33m=\u001b[0m \u001b[1;36m4\u001b[0m\u001b[1;33m\u001b[0m\u001b[1;33m\u001b[0m\u001b[0m\n\u001b[1;32m---> 33\u001b[1;33m \u001b[0macc_4_price\u001b[0m \u001b[1;33m=\u001b[0m \u001b[0mfast_predictor\u001b[0m\u001b[1;33m(\u001b[0m\u001b[0mdc1\u001b[0m\u001b[1;33m,\u001b[0m \u001b[0maccommodates_4\u001b[0m\u001b[1;33m)\u001b[0m\u001b[1;33m\u001b[0m\u001b[1;33m\u001b[0m\u001b[0m\n\u001b[0m\u001b[0;32m     34\u001b[0m \u001b[0macc_4_price\u001b[0m\u001b[1;33m\u001b[0m\u001b[1;33m\u001b[0m\u001b[0m\n",
      "\u001b[1;32m<ipython-input-16-adfdb9c7a93f>\u001b[0m in \u001b[0;36mfast_predictor\u001b[1;34m(df, listing)\u001b[0m\n\u001b[0;32m     25\u001b[0m     \u001b[0mprice_cleaner\u001b[0m\u001b[1;33m(\u001b[0m\u001b[0mdf\u001b[0m\u001b[1;33m)\u001b[0m\u001b[1;33m\u001b[0m\u001b[1;33m\u001b[0m\u001b[0m\n\u001b[0;32m     26\u001b[0m     \u001b[0mrandom_sorter\u001b[0m\u001b[1;33m(\u001b[0m\u001b[0mdf\u001b[0m\u001b[1;33m)\u001b[0m\u001b[1;33m\u001b[0m\u001b[1;33m\u001b[0m\u001b[0m\n\u001b[1;32m---> 27\u001b[1;33m     \u001b[0mprice_predictor\u001b[0m\u001b[1;33m(\u001b[0m\u001b[0mlisting\u001b[0m\u001b[1;33m)\u001b[0m\u001b[1;33m\u001b[0m\u001b[1;33m\u001b[0m\u001b[0m\n\u001b[0m\u001b[0;32m     28\u001b[0m     \u001b[1;32mreturn\u001b[0m \u001b[0mpredicted_price\u001b[0m\u001b[1;33m\u001b[0m\u001b[1;33m\u001b[0m\u001b[0m\n\u001b[0;32m     29\u001b[0m \u001b[1;33m\u001b[0m\u001b[0m\n",
      "\u001b[1;31mTypeError\u001b[0m: price_predictor() missing 1 required positional argument: 'listing'"
     ]
    }
   ],
   "source": [
    "# data-cleaning function\n",
    "def price_cleaner(df):\n",
    "    no_comma = df['price'].str.replace(',', '')\n",
    "    no_dollar = no_comma.str.replace('$', '')\n",
    "    df['price'] = no_dollar.astype('float')\n",
    "    return df\n",
    "\n",
    "# randomizing-and-sorting function\n",
    "def random_sorter(df):\n",
    "    df = df.loc[np.random.permutation(len(df))]\n",
    "    return df\n",
    "\n",
    "# price-predicting function\n",
    "def price_predictor(df, listing):\n",
    "    df_copy = df.copy()\n",
    "    df_copy['euclid'] = df_copy['accommodates'].appyly(\n",
    "        lambda x: np.abs(x-listing))\n",
    "    df_copy = df_copy.sort_values('distance')\n",
    "    KNN_5 = df_copy.iloc[0:5]['price']\n",
    "    predicted_price = KNN_5.mean()\n",
    "    return predicted_price\n",
    "\n",
    "# combining 3 functions\n",
    "def fast_predictor(df, listing):\n",
    "    price_cleaner(df)\n",
    "    random_sorter(df)\n",
    "    price_predictor(listing)\n",
    "    return predicted_price\n",
    "\n",
    "# trying our function\n",
    "dc1 = pd.read_csv('data/dc_airbnb.csv')\n",
    "accommodates_4 = 4\n",
    "acc_4_price = fast_predictor(dc1, accommodates_4)\n",
    "acc_4_price"
   ]
  },
  {
   "cell_type": "code",
   "execution_count": null,
   "metadata": {},
   "outputs": [],
   "source": []
  }
 ],
 "metadata": {
  "kernelspec": {
   "display_name": "Python 3",
   "language": "python",
   "name": "python3"
  },
  "language_info": {
   "codemirror_mode": {
    "name": "ipython",
    "version": 3
   },
   "file_extension": ".py",
   "mimetype": "text/x-python",
   "name": "python",
   "nbconvert_exporter": "python",
   "pygments_lexer": "ipython3",
   "version": "3.7.7"
  }
 },
 "nbformat": 4,
 "nbformat_minor": 4
}
