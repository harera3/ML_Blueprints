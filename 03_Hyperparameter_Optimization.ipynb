{
 "cells": [
  {
   "cell_type": "markdown",
   "metadata": {},
   "source": [
    "# 3. HYPERPARAMETER OPTIMIZATION AND CROSS-VALIDATION\n",
    "---"
   ]
  },
  {
   "cell_type": "markdown",
   "metadata": {},
   "source": [
    "- Values that affect the behavior and performance of a model that are unrelated to the data that's used are referred to as `hyperparameters`.\n",
    "- The process of finding the optimal hyperparameter value is known as `hyperparameter optimization`.\n",
    "- The most common technique is `grid search`:\n",
    "    - selecting a subset of the possible hyperparameter values,\n",
    "    - training a model using each of these hyperparameter values,\n",
    "    - evaluating each model's performance,\n",
    "    - selecting the hyperparameter value that resulted in the lowest error value.\n",
    "\n",
    "## 1. Introducing the Data\n",
    "\n",
    "The datasets I am using here are from the previous section (`Multivariate K-Nearest Neighbors`). The train and test sets were saved to csv and now are being loaded here. \n",
    "\n",
    "*Note:* For some reason the file type ended up being `file`, which is why I am not using `.csv` suffix below. I don't mind as long as it opens. "
   ]
  },
  {
   "cell_type": "code",
   "execution_count": 1,
   "metadata": {},
   "outputs": [
    {
     "data": {
      "text/plain": [
       "((2978, 8), (745, 8))"
      ]
     },
     "execution_count": 1,
     "metadata": {},
     "output_type": "execute_result"
    }
   ],
   "source": [
    "import pandas as pd\n",
    "import numpy as np\n",
    "\n",
    "train_file = 'data/dc_train'\n",
    "test_file = 'data/dc_test'\n",
    "train = pd.read_csv(train_file)\n",
    "test = pd.read_csv(test_file)\n",
    "train.shape, test.shape"
   ]
  },
  {
   "cell_type": "code",
   "execution_count": 2,
   "metadata": {},
   "outputs": [
    {
     "data": {
      "text/html": [
       "<div>\n",
       "<style scoped>\n",
       "    .dataframe tbody tr th:only-of-type {\n",
       "        vertical-align: middle;\n",
       "    }\n",
       "\n",
       "    .dataframe tbody tr th {\n",
       "        vertical-align: top;\n",
       "    }\n",
       "\n",
       "    .dataframe thead th {\n",
       "        text-align: right;\n",
       "    }\n",
       "</style>\n",
       "<table border=\"1\" class=\"dataframe\">\n",
       "  <thead>\n",
       "    <tr style=\"text-align: right;\">\n",
       "      <th></th>\n",
       "      <th>accommodates</th>\n",
       "      <th>bedrooms</th>\n",
       "      <th>bathrooms</th>\n",
       "      <th>beds</th>\n",
       "      <th>price</th>\n",
       "      <th>minimum_nights</th>\n",
       "      <th>maximum_nights</th>\n",
       "      <th>number_of_reviews</th>\n",
       "    </tr>\n",
       "  </thead>\n",
       "  <tbody>\n",
       "    <tr>\n",
       "      <th>0</th>\n",
       "      <td>4.0</td>\n",
       "      <td>1.0</td>\n",
       "      <td>1.0</td>\n",
       "      <td>2.0</td>\n",
       "      <td>129.0</td>\n",
       "      <td>2.0</td>\n",
       "      <td>1125.0</td>\n",
       "      <td>15.0</td>\n",
       "    </tr>\n",
       "    <tr>\n",
       "      <th>1</th>\n",
       "      <td>4.0</td>\n",
       "      <td>1.0</td>\n",
       "      <td>1.0</td>\n",
       "      <td>1.0</td>\n",
       "      <td>295.0</td>\n",
       "      <td>1.0</td>\n",
       "      <td>1125.0</td>\n",
       "      <td>20.0</td>\n",
       "    </tr>\n",
       "    <tr>\n",
       "      <th>2</th>\n",
       "      <td>2.0</td>\n",
       "      <td>1.0</td>\n",
       "      <td>1.0</td>\n",
       "      <td>1.0</td>\n",
       "      <td>140.0</td>\n",
       "      <td>1.0</td>\n",
       "      <td>1125.0</td>\n",
       "      <td>9.0</td>\n",
       "    </tr>\n",
       "    <tr>\n",
       "      <th>3</th>\n",
       "      <td>5.0</td>\n",
       "      <td>2.0</td>\n",
       "      <td>2.0</td>\n",
       "      <td>3.0</td>\n",
       "      <td>217.0</td>\n",
       "      <td>3.0</td>\n",
       "      <td>730.0</td>\n",
       "      <td>19.0</td>\n",
       "    </tr>\n",
       "    <tr>\n",
       "      <th>4</th>\n",
       "      <td>6.0</td>\n",
       "      <td>2.0</td>\n",
       "      <td>1.0</td>\n",
       "      <td>2.0</td>\n",
       "      <td>150.0</td>\n",
       "      <td>2.0</td>\n",
       "      <td>35.0</td>\n",
       "      <td>15.0</td>\n",
       "    </tr>\n",
       "  </tbody>\n",
       "</table>\n",
       "</div>"
      ],
      "text/plain": [
       "   accommodates  bedrooms  bathrooms  beds  price  minimum_nights  \\\n",
       "0           4.0       1.0        1.0   2.0  129.0             2.0   \n",
       "1           4.0       1.0        1.0   1.0  295.0             1.0   \n",
       "2           2.0       1.0        1.0   1.0  140.0             1.0   \n",
       "3           5.0       2.0        2.0   3.0  217.0             3.0   \n",
       "4           6.0       2.0        1.0   2.0  150.0             2.0   \n",
       "\n",
       "   maximum_nights  number_of_reviews  \n",
       "0          1125.0               15.0  \n",
       "1          1125.0               20.0  \n",
       "2          1125.0                9.0  \n",
       "3           730.0               19.0  \n",
       "4            35.0               15.0  "
      ]
     },
     "execution_count": 2,
     "metadata": {},
     "output_type": "execute_result"
    }
   ],
   "source": [
    "train.head()"
   ]
  },
  {
   "cell_type": "code",
   "execution_count": 3,
   "metadata": {},
   "outputs": [
    {
     "data": {
      "text/html": [
       "<div>\n",
       "<style scoped>\n",
       "    .dataframe tbody tr th:only-of-type {\n",
       "        vertical-align: middle;\n",
       "    }\n",
       "\n",
       "    .dataframe tbody tr th {\n",
       "        vertical-align: top;\n",
       "    }\n",
       "\n",
       "    .dataframe thead th {\n",
       "        text-align: right;\n",
       "    }\n",
       "</style>\n",
       "<table border=\"1\" class=\"dataframe\">\n",
       "  <thead>\n",
       "    <tr style=\"text-align: right;\">\n",
       "      <th></th>\n",
       "      <th>accommodates</th>\n",
       "      <th>bedrooms</th>\n",
       "      <th>bathrooms</th>\n",
       "      <th>beds</th>\n",
       "      <th>price</th>\n",
       "      <th>minimum_nights</th>\n",
       "      <th>maximum_nights</th>\n",
       "      <th>number_of_reviews</th>\n",
       "    </tr>\n",
       "  </thead>\n",
       "  <tbody>\n",
       "    <tr>\n",
       "      <th>0</th>\n",
       "      <td>4.0</td>\n",
       "      <td>1.0</td>\n",
       "      <td>1.0</td>\n",
       "      <td>1.0</td>\n",
       "      <td>100.0</td>\n",
       "      <td>1.0</td>\n",
       "      <td>1125.0</td>\n",
       "      <td>11.0</td>\n",
       "    </tr>\n",
       "    <tr>\n",
       "      <th>1</th>\n",
       "      <td>2.0</td>\n",
       "      <td>1.0</td>\n",
       "      <td>1.0</td>\n",
       "      <td>1.0</td>\n",
       "      <td>55.0</td>\n",
       "      <td>2.0</td>\n",
       "      <td>14.0</td>\n",
       "      <td>13.0</td>\n",
       "    </tr>\n",
       "    <tr>\n",
       "      <th>2</th>\n",
       "      <td>2.0</td>\n",
       "      <td>1.0</td>\n",
       "      <td>1.0</td>\n",
       "      <td>1.0</td>\n",
       "      <td>130.0</td>\n",
       "      <td>3.0</td>\n",
       "      <td>1125.0</td>\n",
       "      <td>0.0</td>\n",
       "    </tr>\n",
       "    <tr>\n",
       "      <th>3</th>\n",
       "      <td>4.0</td>\n",
       "      <td>0.0</td>\n",
       "      <td>1.0</td>\n",
       "      <td>2.0</td>\n",
       "      <td>95.0</td>\n",
       "      <td>1.0</td>\n",
       "      <td>1125.0</td>\n",
       "      <td>32.0</td>\n",
       "    </tr>\n",
       "    <tr>\n",
       "      <th>4</th>\n",
       "      <td>2.0</td>\n",
       "      <td>1.0</td>\n",
       "      <td>1.0</td>\n",
       "      <td>1.0</td>\n",
       "      <td>85.0</td>\n",
       "      <td>1.0</td>\n",
       "      <td>1125.0</td>\n",
       "      <td>29.0</td>\n",
       "    </tr>\n",
       "  </tbody>\n",
       "</table>\n",
       "</div>"
      ],
      "text/plain": [
       "   accommodates  bedrooms  bathrooms  beds  price  minimum_nights  \\\n",
       "0           4.0       1.0        1.0   1.0  100.0             1.0   \n",
       "1           2.0       1.0        1.0   1.0   55.0             2.0   \n",
       "2           2.0       1.0        1.0   1.0  130.0             3.0   \n",
       "3           4.0       0.0        1.0   2.0   95.0             1.0   \n",
       "4           2.0       1.0        1.0   1.0   85.0             1.0   \n",
       "\n",
       "   maximum_nights  number_of_reviews  \n",
       "0          1125.0               11.0  \n",
       "1            14.0               13.0  \n",
       "2          1125.0                0.0  \n",
       "3          1125.0               32.0  \n",
       "4          1125.0               29.0  "
      ]
     },
     "execution_count": 3,
     "metadata": {},
     "output_type": "execute_result"
    }
   ],
   "source": [
    "test.head()"
   ]
  },
  {
   "cell_type": "code",
   "execution_count": 4,
   "metadata": {},
   "outputs": [],
   "source": [
    "X_train = train.drop('price', axis=1)\n",
    "y_train = train['price']\n",
    "\n",
    "X_test = test.drop('price', axis=1)\n",
    "y_test = test['price']"
   ]
  },
  {
   "cell_type": "markdown",
   "metadata": {},
   "source": [
    "## 2. Optimizing k-Values"
   ]
  },
  {
   "cell_type": "code",
   "execution_count": 5,
   "metadata": {},
   "outputs": [
    {
     "data": {
      "text/plain": [
       "[21076.00268456376,\n",
       " 14478.544966442953,\n",
       " 12194.8730797912,\n",
       " 10873.906124161074,\n",
       " 10444.591946308725]"
      ]
     },
     "execution_count": 5,
     "metadata": {},
     "output_type": "execute_result"
    }
   ],
   "source": [
    "from sklearn.neighbors import KNeighborsRegressor\n",
    "from sklearn.metrics import mean_squared_error\n",
    "\n",
    "hyper_k = [1, 2, 3, 4, 5]\n",
    "mse_values = list()\n",
    "\n",
    "for k in hyper_k:\n",
    "    knn = KNeighborsRegressor(n_neighbors=k, \n",
    "                              algorithm='brute', \n",
    "                              n_jobs=-1)\n",
    "    knn.fit(X_train, y_train)\n",
    "    y_pred = knn.predict(X_test)\n",
    "    mse = mean_squared_error(y_test, y_pred)\n",
    "    mse_values.append(mse)\n",
    "    \n",
    "mse_values"
   ]
  },
  {
   "cell_type": "code",
   "execution_count": 6,
   "metadata": {},
   "outputs": [
    {
     "data": {
      "text/plain": [
       "array([ 1,  2,  3,  4,  5,  6,  7,  8,  9, 10, 11, 12, 13, 14, 15, 16, 17,\n",
       "       18, 19, 20])"
      ]
     },
     "execution_count": 6,
     "metadata": {},
     "output_type": "execute_result"
    }
   ],
   "source": [
    "np.arange(1, 21)"
   ]
  },
  {
   "cell_type": "code",
   "execution_count": 7,
   "metadata": {},
   "outputs": [
    {
     "data": {
      "text/plain": [
       "[21076.00268456376,\n",
       " 14478.544966442953,\n",
       " 12194.8730797912,\n",
       " 10873.906124161074,\n",
       " 10444.591946308725,\n",
       " 10078.445786726325,\n",
       " 10037.488590604027,\n",
       " 9913.83225671141,\n",
       " 10099.830773054933,\n",
       " 9911.227409395973,\n",
       " 9930.585234899328,\n",
       " 10049.399002609993,\n",
       " 9905.503482784638,\n",
       " 9875.4961991508,\n",
       " 9896.299782252052,\n",
       " 9842.40316170302,\n",
       " 10111.368881354358,\n",
       " 10069.095757726405,\n",
       " 10131.399434828681,\n",
       " 9899.53499328859]"
      ]
     },
     "execution_count": 7,
     "metadata": {},
     "output_type": "execute_result"
    }
   ],
   "source": [
    "hyper_k = np.arange(1, 21)\n",
    "mse_values = list()\n",
    "\n",
    "for k in hyper_k:\n",
    "    knn = KNeighborsRegressor(n_neighbors=k, \n",
    "                              algorithm='brute', \n",
    "                              n_jobs=-1)\n",
    "    knn.fit(X_train, y_train)\n",
    "    y_pred = knn.predict(X_test)\n",
    "    mse = mean_squared_error(y_test, y_pred)\n",
    "    mse_values.append(mse)\n",
    "    \n",
    "mse_values"
   ]
  },
  {
   "cell_type": "markdown",
   "metadata": {},
   "source": [
    "## 3. Highlighting the Best MSE on  a Scatterplot"
   ]
  },
  {
   "cell_type": "code",
   "execution_count": 8,
   "metadata": {},
   "outputs": [
    {
     "data": {
      "image/png": "[encoded data removed]",
      "text/plain": [
       "<Figure size 432x288 with 1 Axes>"
      ]
     },
     "metadata": {
      "needs_background": "light"
     },
     "output_type": "display_data"
    }
   ],
   "source": [
    "import matplotlib.pyplot as plt\n",
    "\n",
    "min_mse = np.min(mse_values)\n",
    "mask = np.array(mse_values) == min_mse\n",
    "color = np.where(mask, 'red', 'blue')\n",
    "plt.scatter(hyper_k, mse_values, color=color)\n",
    "plt.show()"
   ]
  },
  {
   "cell_type": "markdown",
   "metadata": {},
   "source": [
    "The lowest mse comes from k=16 at `9842`"
   ]
  },
  {
   "cell_type": "markdown",
   "metadata": {},
   "source": [
    "## 4. Choosing between KFold and StratifiedKFold"
   ]
  },
  {
   "cell_type": "markdown",
   "metadata": {},
   "source": [
    "StratifiedKFold takes group information into account to avoid building folds with imbalanced class distributions. To decide on which to use, I will need to find the `correlation` between the features and the target."
   ]
  },
  {
   "cell_type": "code",
   "execution_count": 9,
   "metadata": {},
   "outputs": [
    {
     "data": {
      "text/plain": [
       "<AxesSubplot:>"
      ]
     },
     "execution_count": 9,
     "metadata": {},
     "output_type": "execute_result"
    },
    {
     "data": {
      "image/png": "[encoded data removed]",
      "text/plain": [
       "<Figure size 720x504 with 2 Axes>"
      ]
     },
     "metadata": {
      "needs_background": "light"
     },
     "output_type": "display_data"
    }
   ],
   "source": [
    "import seaborn as sns\n",
    "\n",
    "corr = train.corr()\n",
    "mask = np.triu(np.ones_like(corr, dtype=np.bool))\n",
    "color = sns.diverging_palette(10, 220, as_cmap=True)\n",
    "fig, ax = plt.subplots(figsize=(10,7))\n",
    "sns.heatmap(corr, mask=mask, cmap=color, annot=True)"
   ]
  },
  {
   "cell_type": "markdown",
   "metadata": {},
   "source": [
    "It seems like 3 of the features have little to no correlations, and 4 have a decent linear relationship with the price. This suggest that, since none of the features really stands out, regular KFold would be fine. The one thing this heatmap shows is that later on I might benefit from creating derivative features out of the 4 good ones. "
   ]
  },
  {
   "cell_type": "code",
   "execution_count": 10,
   "metadata": {},
   "outputs": [
    {
     "name": "stdout",
     "output_type": "stream",
     "text": [
      "[116.61441659 154.01063319 127.75242133  96.47862672  94.06085927]\n",
      "117.78339141982983\n"
     ]
    }
   ],
   "source": [
    "from sklearn.model_selection import KFold\n",
    "from sklearn.model_selection import cross_val_score\n",
    "\n",
    "kf = KFold(5, shuffle=True, random_state=1)\n",
    "knn = KNeighborsRegressor(n_neighbors=16,\n",
    "                          algorithm='brute')\n",
    "mses = cross_val_score(knn, X_train, y_train, cv=kf, n_jobs=-1,\n",
    "                       scoring=\"neg_mean_squared_error\")\n",
    "rmses = np.sqrt(np.absolute(mses))\n",
    "avg_rmse = np.mean(rmses)\n",
    "\n",
    "print(rmses)\n",
    "print(avg_rmse)"
   ]
  },
  {
   "cell_type": "markdown",
   "metadata": {},
   "source": [
    "## 5. Optimizing KFold"
   ]
  },
  {
   "cell_type": "code",
   "execution_count": 11,
   "metadata": {},
   "outputs": [
    {
     "name": "stdout",
     "output_type": "stream",
     "text": [
      "folds: [ 3  5  7  9 11 13 15 17 19 21 23]\n",
      "Avg_RMSE:  [119.00417341811823, 117.78339141982983, 115.68312746411235, 114.811709897074, 114.1200541120311, 114.01456375290174, 113.97603177097629, 112.55547450405311, 111.03539992571699, 110.60754820273637, 111.51589649793216]\n",
      "Std_RMSE:  [17.57933992823888, 22.044557768890314, 28.23713866672428, 30.149100400983663, 29.72878447472299, 30.54488831970561, 33.608525419321175, 36.275550689116834, 41.71238436700596, 42.797913877366426, 38.58478732182803]\n"
     ]
    }
   ],
   "source": [
    "n_folds = np.arange(3,25,2)\n",
    "avg_rmse = []\n",
    "std_rmse = []\n",
    "for fold in n_folds:\n",
    "    kf = KFold(fold, shuffle=True, random_state=1)\n",
    "    model = KNeighborsRegressor(n_neighbors=16,\n",
    "                                algorithm='brute')\n",
    "    mses = cross_val_score(knn, X_train, y_train, cv=kf, n_jobs=-1,\n",
    "                       scoring=\"neg_mean_squared_error\")\n",
    "    rmses = np.sqrt(np.absolute(mses))\n",
    "    avg_rmse.append(np.mean(rmses))\n",
    "    std_rmse.append(np.std(rmses))\n",
    "print(\"folds:\", n_folds)\n",
    "print(\"Avg_RMSE: \", avg_rmse)\n",
    "print(\"Std_RMSE: \", std_rmse)"
   ]
  },
  {
   "cell_type": "markdown",
   "metadata": {},
   "source": [
    "## 6. 3D-Plotting KFolds, Avg_RMSE, and Std_RMSE"
   ]
  },
  {
   "cell_type": "code",
   "execution_count": 12,
   "metadata": {},
   "outputs": [
    {
     "data": {
      "image/png": "[encoded data removed]",
      "text/plain": [
       "<Figure size 720x720 with 1 Axes>"
      ]
     },
     "metadata": {
      "needs_background": "light"
     },
     "output_type": "display_data"
    }
   ],
   "source": [
    "from mpl_toolkits.mplot3d import Axes3D\n",
    "\n",
    "# Dataset\n",
    "df=pd.DataFrame({'X': n_folds, \n",
    "                 'Y': avg_rmse, \n",
    "                 'Z': std_rmse})\n",
    " \n",
    "# plot\n",
    "fig = plt.figure(figsize=(10,10))\n",
    "ax = fig.add_subplot(111, projection='3d')\n",
    "ax.scatter(df['X'], df['Y'], df['Z'], c='blue', s=60)\n",
    "plt.xlabel('n_folds', fontsize=14)\n",
    "plt.ylabel('avg_rmse', fontsize=14)\n",
    "ax.set_zlabel('std_rmse', fontsize=14)\n",
    "ax.view_init(25, 170)\n",
    "plt.show()"
   ]
  },
  {
   "cell_type": "markdown",
   "metadata": {},
   "source": [
    "From the 3D plot above and the table below, it looks like `n_folds=11` does a good job of balancing bias and variance\n",
    "- Bias describes error that results in bad assumptions about the learning algorithm.  \n",
    "    - For example, assuming that only one or a few features relate to the target\n",
    "- Variance describes error that occurs because of the variability of a model's predicted values.\n",
    "    - For example, using too many features for a model\n",
    "\n",
    "In an ideal world, I want low bias and low variance but in reality, there's always a tradeoff."
   ]
  },
  {
   "cell_type": "code",
   "execution_count": 13,
   "metadata": {},
   "outputs": [
    {
     "data": {
      "text/html": [
       "<div>\n",
       "<style scoped>\n",
       "    .dataframe tbody tr th:only-of-type {\n",
       "        vertical-align: middle;\n",
       "    }\n",
       "\n",
       "    .dataframe tbody tr th {\n",
       "        vertical-align: top;\n",
       "    }\n",
       "\n",
       "    .dataframe thead th {\n",
       "        text-align: right;\n",
       "    }\n",
       "</style>\n",
       "<table border=\"1\" class=\"dataframe\">\n",
       "  <thead>\n",
       "    <tr style=\"text-align: right;\">\n",
       "      <th></th>\n",
       "      <th>X</th>\n",
       "      <th>Y</th>\n",
       "      <th>Z</th>\n",
       "    </tr>\n",
       "  </thead>\n",
       "  <tbody>\n",
       "    <tr>\n",
       "      <th>0</th>\n",
       "      <td>3</td>\n",
       "      <td>119.004173</td>\n",
       "      <td>17.579340</td>\n",
       "    </tr>\n",
       "    <tr>\n",
       "      <th>1</th>\n",
       "      <td>5</td>\n",
       "      <td>117.783391</td>\n",
       "      <td>22.044558</td>\n",
       "    </tr>\n",
       "    <tr>\n",
       "      <th>2</th>\n",
       "      <td>7</td>\n",
       "      <td>115.683127</td>\n",
       "      <td>28.237139</td>\n",
       "    </tr>\n",
       "    <tr>\n",
       "      <th>3</th>\n",
       "      <td>9</td>\n",
       "      <td>114.811710</td>\n",
       "      <td>30.149100</td>\n",
       "    </tr>\n",
       "    <tr>\n",
       "      <th>4</th>\n",
       "      <td>11</td>\n",
       "      <td>114.120054</td>\n",
       "      <td>29.728784</td>\n",
       "    </tr>\n",
       "    <tr>\n",
       "      <th>5</th>\n",
       "      <td>13</td>\n",
       "      <td>114.014564</td>\n",
       "      <td>30.544888</td>\n",
       "    </tr>\n",
       "    <tr>\n",
       "      <th>6</th>\n",
       "      <td>15</td>\n",
       "      <td>113.976032</td>\n",
       "      <td>33.608525</td>\n",
       "    </tr>\n",
       "    <tr>\n",
       "      <th>7</th>\n",
       "      <td>17</td>\n",
       "      <td>112.555475</td>\n",
       "      <td>36.275551</td>\n",
       "    </tr>\n",
       "    <tr>\n",
       "      <th>8</th>\n",
       "      <td>19</td>\n",
       "      <td>111.035400</td>\n",
       "      <td>41.712384</td>\n",
       "    </tr>\n",
       "    <tr>\n",
       "      <th>9</th>\n",
       "      <td>21</td>\n",
       "      <td>110.607548</td>\n",
       "      <td>42.797914</td>\n",
       "    </tr>\n",
       "    <tr>\n",
       "      <th>10</th>\n",
       "      <td>23</td>\n",
       "      <td>111.515896</td>\n",
       "      <td>38.584787</td>\n",
       "    </tr>\n",
       "  </tbody>\n",
       "</table>\n",
       "</div>"
      ],
      "text/plain": [
       "     X           Y          Z\n",
       "0    3  119.004173  17.579340\n",
       "1    5  117.783391  22.044558\n",
       "2    7  115.683127  28.237139\n",
       "3    9  114.811710  30.149100\n",
       "4   11  114.120054  29.728784\n",
       "5   13  114.014564  30.544888\n",
       "6   15  113.976032  33.608525\n",
       "7   17  112.555475  36.275551\n",
       "8   19  111.035400  41.712384\n",
       "9   21  110.607548  42.797914\n",
       "10  23  111.515896  38.584787"
      ]
     },
     "execution_count": 13,
     "metadata": {},
     "output_type": "execute_result"
    }
   ],
   "source": [
    "df"
   ]
  },
  {
   "cell_type": "markdown",
   "metadata": {},
   "source": [
    "So in the end the best model so far uses `16 nearest neighbors` and `11 folds for cross-validation` on the `brute` algorithm. \n",
    "\n",
    "**Next step:** It would be great to go back and optimize the features by creating secondary ones and analysing which ones are the most useful to the model. "
   ]
  }
 ],
 "metadata": {
  "kernelspec": {
   "display_name": "Python 3",
   "language": "python",
   "name": "python3"
  },
  "language_info": {
   "codemirror_mode": {
    "name": "ipython",
    "version": 3
   },
   "file_extension": ".py",
   "mimetype": "text/x-python",
   "name": "python",
   "nbconvert_exporter": "python",
   "pygments_lexer": "ipython3",
   "version": "3.7.7"
  }
 },
 "nbformat": 4,
 "nbformat_minor": 4
}
