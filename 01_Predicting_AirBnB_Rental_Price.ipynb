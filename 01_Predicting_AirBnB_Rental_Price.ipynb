{
 "cells": [
  {
   "cell_type": "markdown",
   "metadata": {},
   "source": [
    "# 1. PREDICTING NEW LISTING PRICE FOR AIRBNB RENTALS, KNN\n",
    "---\n",
    "As an AirBnB host I want to:\n",
    "- find listings that are similar to mine\n",
    "- average the listings' prices \n",
    "- set my place's price to the averaged price\n",
    "\n",
    "This makes sure that I don't lose business because my price is too high but it also makes sure that I don't lose money because I set the price too low.\n",
    "\n",
    "Machine Learning Model: `K-Nearest Neighbors` - unsupervised model\n",
    "\n",
    "Data: \n",
    "- [Inside AirBnB](http://insideairbnb.com/get-the-data.html)\n",
    "    - `October 3, 2015: listings.csv.gz` Archived\n",
    "- Dataquest.io: `dc_airbnb.csv`\n",
    "    - Cleaned to keep the essential columns only (from 92 to 19)"
   ]
  },
  {
   "cell_type": "markdown",
   "metadata": {},
   "source": [
    "## 1. Introducing the data"
   ]
  },
  {
   "cell_type": "code",
   "execution_count": 1,
   "metadata": {},
   "outputs": [],
   "source": [
    "import pandas as pd\n",
    "import numpy as np\n",
    "\n",
    "dc = pd.read_csv('data/dc_airbnb.csv')"
   ]
  },
  {
   "cell_type": "code",
   "execution_count": 2,
   "metadata": {},
   "outputs": [
    {
     "data": {
      "text/plain": [
       "19"
      ]
     },
     "execution_count": 2,
     "metadata": {},
     "output_type": "execute_result"
    }
   ],
   "source": [
    "len(dc.columns)"
   ]
  },
  {
   "cell_type": "code",
   "execution_count": 3,
   "metadata": {},
   "outputs": [
    {
     "data": {
      "text/plain": [
       "Index(['host_response_rate', 'host_acceptance_rate', 'host_listings_count',\n",
       "       'accommodates', 'room_type', 'bedrooms', 'bathrooms', 'beds', 'price',\n",
       "       'cleaning_fee', 'security_deposit', 'minimum_nights', 'maximum_nights',\n",
       "       'number_of_reviews', 'latitude', 'longitude', 'city', 'zipcode',\n",
       "       'state'],\n",
       "      dtype='object')"
      ]
     },
     "execution_count": 3,
     "metadata": {},
     "output_type": "execute_result"
    }
   ],
   "source": [
    "dc.columns"
   ]
  },
  {
   "cell_type": "code",
   "execution_count": 4,
   "metadata": {},
   "outputs": [
    {
     "data": {
      "text/plain": [
       "(3723, 19)"
      ]
     },
     "execution_count": 4,
     "metadata": {},
     "output_type": "execute_result"
    }
   ],
   "source": [
    "dc.shape"
   ]
  },
  {
   "cell_type": "code",
   "execution_count": 5,
   "metadata": {},
   "outputs": [
    {
     "data": {
      "text/html": [
       "<div>\n",
       "<style scoped>\n",
       "    .dataframe tbody tr th:only-of-type {\n",
       "        vertical-align: middle;\n",
       "    }\n",
       "\n",
       "    .dataframe tbody tr th {\n",
       "        vertical-align: top;\n",
       "    }\n",
       "\n",
       "    .dataframe thead th {\n",
       "        text-align: right;\n",
       "    }\n",
       "</style>\n",
       "<table border=\"1\" class=\"dataframe\">\n",
       "  <thead>\n",
       "    <tr style=\"text-align: right;\">\n",
       "      <th></th>\n",
       "      <th>accommodates</th>\n",
       "      <th>price</th>\n",
       "    </tr>\n",
       "  </thead>\n",
       "  <tbody>\n",
       "    <tr>\n",
       "      <th>0</th>\n",
       "      <td>4</td>\n",
       "      <td>$160.00</td>\n",
       "    </tr>\n",
       "    <tr>\n",
       "      <th>1</th>\n",
       "      <td>6</td>\n",
       "      <td>$350.00</td>\n",
       "    </tr>\n",
       "    <tr>\n",
       "      <th>2</th>\n",
       "      <td>1</td>\n",
       "      <td>$50.00</td>\n",
       "    </tr>\n",
       "    <tr>\n",
       "      <th>3</th>\n",
       "      <td>2</td>\n",
       "      <td>$95.00</td>\n",
       "    </tr>\n",
       "    <tr>\n",
       "      <th>4</th>\n",
       "      <td>4</td>\n",
       "      <td>$50.00</td>\n",
       "    </tr>\n",
       "  </tbody>\n",
       "</table>\n",
       "</div>"
      ],
      "text/plain": [
       "   accommodates    price\n",
       "0             4  $160.00\n",
       "1             6  $350.00\n",
       "2             1   $50.00\n",
       "3             2   $95.00\n",
       "4             4   $50.00"
      ]
     },
     "execution_count": 5,
     "metadata": {},
     "output_type": "execute_result"
    }
   ],
   "source": [
    "dc = dc[['accommodates', 'price']]\n",
    "dc.head()"
   ]
  },
  {
   "cell_type": "code",
   "execution_count": 6,
   "metadata": {},
   "outputs": [
    {
     "data": {
      "text/plain": [
       "accommodates          4\n",
       "price           $160.00\n",
       "Name: 0, dtype: object"
      ]
     },
     "execution_count": 6,
     "metadata": {},
     "output_type": "execute_result"
    }
   ],
   "source": [
    "# display first row\n",
    "dc.iloc[0]"
   ]
  },
  {
   "cell_type": "markdown",
   "metadata": {},
   "source": [
    "## 2. Euclidian distance\n",
    "\n",
    "Here's the strategy I wanted to use:\n",
    "- Find a few similar listings.\n",
    "- Calculate the average nightly rental price of these listings.\n",
    "- Set the average price as the price for my listing.\n",
    "\n",
    "When trying to predict a continuous value, like price, the main similarity metric that's used is Euclidean distance.\n",
    "$$\n",
    "d = \\sqrt{(q_1 - p_1)^2 + (q_2 - p_2)^2 + ... + (q_n - p_n)^2}\n",
    "$$\n",
    "\n",
    "In my case, since I am using one feature, the *univariate Euclidian distance* is:\n",
    "$$\n",
    "d = |q_1 - p_1|\n",
    "$$\n",
    "\n",
    "The living space that I want to rent can accommodate 3 people. I will first calculate the distance, using just the `accommodates` feature, between the first living space in the dataset and my own."
   ]
  },
  {
   "cell_type": "code",
   "execution_count": 7,
   "metadata": {},
   "outputs": [
    {
     "data": {
      "text/plain": [
       "1"
      ]
     },
     "execution_count": 7,
     "metadata": {},
     "output_type": "execute_result"
    }
   ],
   "source": [
    "my_acc = 3\n",
    "acc_1st = dc.iloc[0]['accommodates']\n",
    "euclid_1 = np.abs(acc_1st - my_acc)\n",
    "euclid_1"
   ]
  },
  {
   "cell_type": "markdown",
   "metadata": {},
   "source": [
    "- The lowest value $d$ can have is 0, meaning that $q_1 = p_1$\n",
    "- The closer to 0 the distance, the more similar the living spaces are\n",
    "- I can calculate the distance between my place and each place in the dataset and rank the result by ascending distance values\n",
    "    - The higher the ranking, the higher the similarity"
   ]
  },
  {
   "cell_type": "code",
   "execution_count": 8,
   "metadata": {},
   "outputs": [
    {
     "data": {
      "text/plain": [
       "1     2294\n",
       "2      503\n",
       "0      461\n",
       "3      279\n",
       "5       73\n",
       "4       35\n",
       "7       22\n",
       "6       17\n",
       "9       12\n",
       "13       8\n",
       "8        7\n",
       "12       6\n",
       "11       4\n",
       "10       2\n",
       "Name: euclid, dtype: int64"
      ]
     },
     "execution_count": 8,
     "metadata": {},
     "output_type": "execute_result"
    }
   ],
   "source": [
    "dc['euclid'] = dc['accommodates'].apply(\n",
    "    lambda x: np.abs(x - my_acc))\n",
    "dc['euclid'].value_counts()"
   ]
  },
  {
   "cell_type": "markdown",
   "metadata": {},
   "source": [
    "- There are 461 places that can accommodate 3 people, just like my place\n",
    "- I will now select only these entries"
   ]
  },
  {
   "cell_type": "code",
   "execution_count": 9,
   "metadata": {},
   "outputs": [
    {
     "data": {
      "text/plain": [
       "26      3\n",
       "34      3\n",
       "36      3\n",
       "40      3\n",
       "44      3\n",
       "       ..\n",
       "3675    3\n",
       "3697    3\n",
       "3707    3\n",
       "3714    3\n",
       "3722    3\n",
       "Name: accommodates, Length: 461, dtype: int64"
      ]
     },
     "execution_count": 9,
     "metadata": {},
     "output_type": "execute_result"
    }
   ],
   "source": [
    "dc[dc['euclid'] == 0]['accommodates']"
   ]
  },
  {
   "cell_type": "markdown",
   "metadata": {},
   "source": [
    "## 3. Randomizing and sorting\n",
    "\n",
    "- If I selected the first 5 living spaces with a eaclidian distance of 0, I would be biasing the result to the ordering of the dataset\n",
    "- Instead I will randomize the ordering of the dataset and then sort the dataset by the `euclid` column\n",
    "    - This means that all of the similar places will still be on top but in random order across the first 461 rows"
   ]
  },
  {
   "cell_type": "code",
   "execution_count": 10,
   "metadata": {},
   "outputs": [
    {
     "data": {
      "text/plain": [
       "577     $185.00\n",
       "2166    $180.00\n",
       "3631    $175.00\n",
       "71      $128.00\n",
       "1011    $115.00\n",
       "380     $219.00\n",
       "943     $125.00\n",
       "3107    $250.00\n",
       "1499     $94.00\n",
       "625     $150.00\n",
       "Name: price, dtype: object"
      ]
     },
     "execution_count": 10,
     "metadata": {},
     "output_type": "execute_result"
    }
   ],
   "source": [
    "np.random.seed(1)\n",
    "dc = dc.loc[np.random.permutation(len(dc))]\n",
    "dc = dc.sort_values('euclid')\n",
    "dc.iloc[0:10]['price']"
   ]
  },
  {
   "cell_type": "markdown",
   "metadata": {},
   "source": [
    "## 4. Calculating average price\n",
    "- Before I can select the 5 most similar living spaces and compute the average price, I need to clean the price column. \n",
    "- Right now, the price column \n",
    "    - contains comma characters (,) and dollar sign characters and \n",
    "    - is formatted as a text column instead of a numeric one. \n",
    "- I need to remove these values and convert the entire column to the float datatype. \n",
    "- Then, I can calculate the average price."
   ]
  },
  {
   "cell_type": "code",
   "execution_count": 11,
   "metadata": {},
   "outputs": [
    {
     "data": {
      "text/plain": [
       "156.6"
      ]
     },
     "execution_count": 11,
     "metadata": {},
     "output_type": "execute_result"
    }
   ],
   "source": [
    "remove_comma = dc['price'].str.replace(',', '')\n",
    "remove_dollar = remove_comma.str.replace('$', '')\n",
    "dc['price'] = remove_dollar.astype('float')\n",
    "avg_price = dc.iloc[0:5]['price'].mean()\n",
    "avg_price"
   ]
  },
  {
   "cell_type": "markdown",
   "metadata": {},
   "source": [
    "Based on the average price of other listings that accommdate 3 people, I should charge **$156.6** per night for a guest to stay at my living space.\n",
    "\n",
    "## 5. Designing prediction functions\n",
    "I will now write 3 general functions that will help me do the following:\n",
    "- clean the `price` column of the dataframe\n",
    "- randomize and sort the dataframe\n",
    "- suggest the optimal price for other values of the `accommodates` column. "
   ]
  },
  {
   "cell_type": "code",
   "execution_count": 12,
   "metadata": {},
   "outputs": [],
   "source": [
    "# data-cleaning function\n",
    "def price_cleaner(df):\n",
    "    no_comma = df['price'].str.replace(',', '')\n",
    "    no_dollar = no_comma.str.replace('$', '')\n",
    "    df['price'] = no_dollar.astype('float')\n",
    "    return df\n",
    "\n",
    "# randomizing-and-sorting function\n",
    "def random_sorter(df):\n",
    "    np.random.seed(1)\n",
    "    df = df.loc[np.random.permutation(len(df))]\n",
    "    return df\n",
    "\n",
    "# price-predicting function\n",
    "def price_predictor(df, listing):\n",
    "    df_copy = df.copy()\n",
    "    df_copy['euclid'] = df_copy['accommodates'].apply(\n",
    "        lambda x: np.abs(x - listing))\n",
    "    df_copy = df_copy.sort_values('euclid')\n",
    "    KNN_5 = df_copy.iloc[0:5]['price']\n",
    "    listing_price = KNN_5.mean()\n",
    "    return listing_price"
   ]
  },
  {
   "cell_type": "code",
   "execution_count": 13,
   "metadata": {},
   "outputs": [
    {
     "data": {
      "text/plain": [
       "156.6"
      ]
     },
     "execution_count": 13,
     "metadata": {},
     "output_type": "execute_result"
    }
   ],
   "source": [
    "dc_1 = pd.read_csv('data/dc_airbnb.csv')\n",
    "dc1_clean = price_cleaner(dc_1)\n",
    "dc1_sorted = random_sorter(dc1_clean)\n",
    "acc_n_price = price_predictor(dc1_sorted, 3)\n",
    "acc_n_price"
   ]
  },
  {
   "cell_type": "markdown",
   "metadata": {},
   "source": [
    "## 6. Analyzing predicted prices"
   ]
  },
  {
   "cell_type": "code",
   "execution_count": 14,
   "metadata": {},
   "outputs": [],
   "source": [
    "# create a new dataframe\n",
    "listings = pd.DataFrame() \n",
    "\n",
    "# add column of n people to accomodate\n",
    "listings['n_acc'] = np.arange(1,13)"
   ]
  },
  {
   "cell_type": "code",
   "execution_count": 15,
   "metadata": {},
   "outputs": [
    {
     "data": {
      "text/html": [
       "<div>\n",
       "<style scoped>\n",
       "    .dataframe tbody tr th:only-of-type {\n",
       "        vertical-align: middle;\n",
       "    }\n",
       "\n",
       "    .dataframe tbody tr th {\n",
       "        vertical-align: top;\n",
       "    }\n",
       "\n",
       "    .dataframe thead th {\n",
       "        text-align: right;\n",
       "    }\n",
       "</style>\n",
       "<table border=\"1\" class=\"dataframe\">\n",
       "  <thead>\n",
       "    <tr style=\"text-align: right;\">\n",
       "      <th></th>\n",
       "      <th>n_acc</th>\n",
       "      <th>n_price</th>\n",
       "    </tr>\n",
       "  </thead>\n",
       "  <tbody>\n",
       "    <tr>\n",
       "      <th>0</th>\n",
       "      <td>1</td>\n",
       "      <td>68.0</td>\n",
       "    </tr>\n",
       "    <tr>\n",
       "      <th>1</th>\n",
       "      <td>2</td>\n",
       "      <td>112.8</td>\n",
       "    </tr>\n",
       "    <tr>\n",
       "      <th>2</th>\n",
       "      <td>3</td>\n",
       "      <td>156.6</td>\n",
       "    </tr>\n",
       "    <tr>\n",
       "      <th>3</th>\n",
       "      <td>4</td>\n",
       "      <td>124.8</td>\n",
       "    </tr>\n",
       "    <tr>\n",
       "      <th>4</th>\n",
       "      <td>5</td>\n",
       "      <td>230.8</td>\n",
       "    </tr>\n",
       "    <tr>\n",
       "      <th>5</th>\n",
       "      <td>6</td>\n",
       "      <td>183.2</td>\n",
       "    </tr>\n",
       "    <tr>\n",
       "      <th>6</th>\n",
       "      <td>7</td>\n",
       "      <td>306.6</td>\n",
       "    </tr>\n",
       "    <tr>\n",
       "      <th>7</th>\n",
       "      <td>8</td>\n",
       "      <td>288.8</td>\n",
       "    </tr>\n",
       "    <tr>\n",
       "      <th>8</th>\n",
       "      <td>9</td>\n",
       "      <td>286.8</td>\n",
       "    </tr>\n",
       "    <tr>\n",
       "      <th>9</th>\n",
       "      <td>10</td>\n",
       "      <td>404.6</td>\n",
       "    </tr>\n",
       "    <tr>\n",
       "      <th>10</th>\n",
       "      <td>11</td>\n",
       "      <td>829.0</td>\n",
       "    </tr>\n",
       "    <tr>\n",
       "      <th>11</th>\n",
       "      <td>12</td>\n",
       "      <td>579.4</td>\n",
       "    </tr>\n",
       "  </tbody>\n",
       "</table>\n",
       "</div>"
      ],
      "text/plain": [
       "    n_acc  n_price\n",
       "0       1     68.0\n",
       "1       2    112.8\n",
       "2       3    156.6\n",
       "3       4    124.8\n",
       "4       5    230.8\n",
       "5       6    183.2\n",
       "6       7    306.6\n",
       "7       8    288.8\n",
       "8       9    286.8\n",
       "9      10    404.6\n",
       "10     11    829.0\n",
       "11     12    579.4"
      ]
     },
     "execution_count": 15,
     "metadata": {},
     "output_type": "execute_result"
    }
   ],
   "source": [
    "# create empty list to populate calculated prices\n",
    "m_list = []\n",
    "for n in np.arange(1,13):\n",
    "    m = price_predictor(dc1_sorted, n)\n",
    "    m_list.append(m)\n",
    "\n",
    "# new dataframe for prices\n",
    "listings_ = pd.DataFrame()\n",
    "listings_['n_price'] = m_list\n",
    "\n",
    "# add prices to listings df\n",
    "listings['n_price'] = listings_['n_price']\n",
    "\n",
    "# show listings\n",
    "listings"
   ]
  },
  {
   "cell_type": "code",
   "execution_count": 16,
   "metadata": {},
   "outputs": [
    {
     "data": {
      "text/plain": [
       "<AxesSubplot:xlabel='n_acc', ylabel='n_price'>"
      ]
     },
     "execution_count": 16,
     "metadata": {},
     "output_type": "execute_result"
    },
    {
     "data": {
      "image/png": "[encoded data removed]",
      "text/plain": [
       "<Figure size 432x288 with 1 Axes>"
      ]
     },
     "metadata": {},
     "output_type": "display_data"
    }
   ],
   "source": [
    "import seaborn as sns; sns.set()\n",
    "import matplotlib.pyplot as plt\n",
    "\n",
    "sns.lineplot(x='n_acc', y='n_price', data=listings)"
   ]
  },
  {
   "cell_type": "markdown",
   "metadata": {},
   "source": [
    "Generally speaking, as the number of people a listing can accommodate, the price goes up. This makes sense. However, when n=11 the price is abnormally high.\n",
    "\n",
    "This could be due to the fact that we don't have enough data to accurately predict the price. It could also be because we are averaging only the first 5 neighbors which is prone to being sensitive to outliers. \n",
    "\n",
    "## 7. Upgrading the price-predicting function\n",
    "\n",
    "Now, I can edit the `price_predictor` function to actually return the `listings` dataframe above:"
   ]
  },
  {
   "cell_type": "code",
   "execution_count": 17,
   "metadata": {},
   "outputs": [],
   "source": [
    "# price-predicting function, upgraded\n",
    "def price_predictor_2(df):\n",
    "    df_copy = df.copy()\n",
    "    n_acc = np.arange(1,13)\n",
    "    n_price = []\n",
    "    for n in n_acc:\n",
    "        df_copy['euclid'] = df_copy['accommodates'].apply(\n",
    "            lambda x: np.abs(x - n))\n",
    "        df_copy = df_copy.sort_values('euclid')\n",
    "        KNN_5 = df_copy.iloc[0:5]['price']\n",
    "        m = KNN_5.mean()\n",
    "        n_price.append(m)\n",
    "    new_listings = pd.DataFrame()\n",
    "    new_listings['n_acc'] = n_acc\n",
    "    new_listings['n_price'] = n_price\n",
    "    return new_listings"
   ]
  },
  {
   "cell_type": "code",
   "execution_count": 18,
   "metadata": {},
   "outputs": [
    {
     "data": {
      "text/html": [
       "<div>\n",
       "<style scoped>\n",
       "    .dataframe tbody tr th:only-of-type {\n",
       "        vertical-align: middle;\n",
       "    }\n",
       "\n",
       "    .dataframe tbody tr th {\n",
       "        vertical-align: top;\n",
       "    }\n",
       "\n",
       "    .dataframe thead th {\n",
       "        text-align: right;\n",
       "    }\n",
       "</style>\n",
       "<table border=\"1\" class=\"dataframe\">\n",
       "  <thead>\n",
       "    <tr style=\"text-align: right;\">\n",
       "      <th></th>\n",
       "      <th>n_acc</th>\n",
       "      <th>n_price</th>\n",
       "    </tr>\n",
       "  </thead>\n",
       "  <tbody>\n",
       "    <tr>\n",
       "      <th>0</th>\n",
       "      <td>1</td>\n",
       "      <td>68.0</td>\n",
       "    </tr>\n",
       "    <tr>\n",
       "      <th>1</th>\n",
       "      <td>2</td>\n",
       "      <td>83.8</td>\n",
       "    </tr>\n",
       "    <tr>\n",
       "      <th>2</th>\n",
       "      <td>3</td>\n",
       "      <td>107.8</td>\n",
       "    </tr>\n",
       "    <tr>\n",
       "      <th>3</th>\n",
       "      <td>4</td>\n",
       "      <td>145.0</td>\n",
       "    </tr>\n",
       "    <tr>\n",
       "      <th>4</th>\n",
       "      <td>5</td>\n",
       "      <td>191.6</td>\n",
       "    </tr>\n",
       "    <tr>\n",
       "      <th>5</th>\n",
       "      <td>6</td>\n",
       "      <td>204.6</td>\n",
       "    </tr>\n",
       "    <tr>\n",
       "      <th>6</th>\n",
       "      <td>7</td>\n",
       "      <td>389.8</td>\n",
       "    </tr>\n",
       "    <tr>\n",
       "      <th>7</th>\n",
       "      <td>8</td>\n",
       "      <td>281.2</td>\n",
       "    </tr>\n",
       "    <tr>\n",
       "      <th>8</th>\n",
       "      <td>9</td>\n",
       "      <td>294.8</td>\n",
       "    </tr>\n",
       "    <tr>\n",
       "      <th>9</th>\n",
       "      <td>10</td>\n",
       "      <td>388.6</td>\n",
       "    </tr>\n",
       "    <tr>\n",
       "      <th>10</th>\n",
       "      <td>11</td>\n",
       "      <td>815.4</td>\n",
       "    </tr>\n",
       "    <tr>\n",
       "      <th>11</th>\n",
       "      <td>12</td>\n",
       "      <td>314.2</td>\n",
       "    </tr>\n",
       "  </tbody>\n",
       "</table>\n",
       "</div>"
      ],
      "text/plain": [
       "    n_acc  n_price\n",
       "0       1     68.0\n",
       "1       2     83.8\n",
       "2       3    107.8\n",
       "3       4    145.0\n",
       "4       5    191.6\n",
       "5       6    204.6\n",
       "6       7    389.8\n",
       "7       8    281.2\n",
       "8       9    294.8\n",
       "9      10    388.6\n",
       "10     11    815.4\n",
       "11     12    314.2"
      ]
     },
     "execution_count": 18,
     "metadata": {},
     "output_type": "execute_result"
    }
   ],
   "source": [
    "dc_1 = pd.read_csv('data/dc_airbnb.csv')\n",
    "dc1_clean = price_cleaner(dc_1)\n",
    "dc1_sorted = random_sorter(dc1_clean)\n",
    "acc_n_price = price_predictor_2(dc1_sorted)\n",
    "acc_n_price"
   ]
  },
  {
   "cell_type": "markdown",
   "metadata": {},
   "source": [
    "This is awesome! Glad it could be done!"
   ]
  },
  {
   "cell_type": "code",
   "execution_count": 19,
   "metadata": {},
   "outputs": [
    {
     "data": {
      "text/plain": [
       "<AxesSubplot:xlabel='n_acc', ylabel='n_price'>"
      ]
     },
     "execution_count": 19,
     "metadata": {},
     "output_type": "execute_result"
    },
    {
     "data": {
      "image/png": "[encoded data removed]",
      "text/plain": [
       "<Figure size 432x288 with 1 Axes>"
      ]
     },
     "metadata": {},
     "output_type": "display_data"
    }
   ],
   "source": [
    "sns.lineplot(x='n_acc', y='n_price', data=listings)"
   ]
  },
  {
   "cell_type": "markdown",
   "metadata": {},
   "source": [
    "## 8. Creating a Price-Cleaning Custom Transformer\n",
    "\n",
    "So I want to be able to open a data file, do all kinds of preliminary work, and predict prices for various accommodation values through a pipeline. For that I need to create custom transformers; the first one being `PriceCleaner` transformer. Once I load the data and name the dataframe, this transformer will:\n",
    "- pick only two columns to use: `accommodates` and `price`\n",
    "    - the new dataframe is made from a copy of the original to avoid changes on the original\n",
    "- clean the `price` column by removing commas and dollar signs and set it as a float\n",
    "- return the cleaned dataframe with two columns"
   ]
  },
  {
   "cell_type": "code",
   "execution_count": 25,
   "metadata": {},
   "outputs": [],
   "source": [
    "from sklearn.base import BaseEstimator, TransformerMixin\n",
    "\n",
    "class PriceCleaner(BaseEstimator, TransformerMixin):    \n",
    "    def __init__(self, df=True):\n",
    "        print('\\n>>>>>>>init() called.\\n')\n",
    "        self.df = df\n",
    "\n",
    "    def fit(self, df, y = None):\n",
    "        print('\\n>>>>>>>fit() called.\\n')        \n",
    "        return self\n",
    "\n",
    "    def transform(self, df):\n",
    "        print('\\n>>>>>>>transform() called.\\n')\n",
    "        cols = ['accommodates', 'price']\n",
    "        df = df[cols].copy()\n",
    "        no_comma = df['price'].str.replace(',', '')\n",
    "        no_dollar = no_comma.str.replace('$', '')\n",
    "        df['price'] = no_dollar.astype('float')\n",
    "        self.df = df[cols]\n",
    "        return df"
   ]
  },
  {
   "cell_type": "markdown",
   "metadata": {},
   "source": [
    "Clealy the transformer works pretty well. \n",
    "- the prints were added to check that every step is being called\n",
    "- by creating a pipeline with one step, I see that the `PriceCleaner` transformer did exactly what it was designed to do\n",
    "- *Awesome!*"
   ]
  },
  {
   "cell_type": "code",
   "execution_count": 28,
   "metadata": {},
   "outputs": [
    {
     "name": "stdout",
     "output_type": "stream",
     "text": [
      "\n",
      ">>>>>>>init() called.\n",
      "\n",
      "\n",
      ">>>>>>>fit() called.\n",
      "\n",
      "\n",
      ">>>>>>>transform() called.\n",
      "\n"
     ]
    },
    {
     "data": {
      "text/html": [
       "<div>\n",
       "<style scoped>\n",
       "    .dataframe tbody tr th:only-of-type {\n",
       "        vertical-align: middle;\n",
       "    }\n",
       "\n",
       "    .dataframe tbody tr th {\n",
       "        vertical-align: top;\n",
       "    }\n",
       "\n",
       "    .dataframe thead th {\n",
       "        text-align: right;\n",
       "    }\n",
       "</style>\n",
       "<table border=\"1\" class=\"dataframe\">\n",
       "  <thead>\n",
       "    <tr style=\"text-align: right;\">\n",
       "      <th></th>\n",
       "      <th>accommodates</th>\n",
       "      <th>price</th>\n",
       "    </tr>\n",
       "  </thead>\n",
       "  <tbody>\n",
       "    <tr>\n",
       "      <th>0</th>\n",
       "      <td>4</td>\n",
       "      <td>160.0</td>\n",
       "    </tr>\n",
       "    <tr>\n",
       "      <th>1</th>\n",
       "      <td>6</td>\n",
       "      <td>350.0</td>\n",
       "    </tr>\n",
       "    <tr>\n",
       "      <th>2</th>\n",
       "      <td>1</td>\n",
       "      <td>50.0</td>\n",
       "    </tr>\n",
       "    <tr>\n",
       "      <th>3</th>\n",
       "      <td>2</td>\n",
       "      <td>95.0</td>\n",
       "    </tr>\n",
       "    <tr>\n",
       "      <th>4</th>\n",
       "      <td>4</td>\n",
       "      <td>50.0</td>\n",
       "    </tr>\n",
       "  </tbody>\n",
       "</table>\n",
       "</div>"
      ],
      "text/plain": [
       "   accommodates  price\n",
       "0             4  160.0\n",
       "1             6  350.0\n",
       "2             1   50.0\n",
       "3             2   95.0\n",
       "4             4   50.0"
      ]
     },
     "execution_count": 28,
     "metadata": {},
     "output_type": "execute_result"
    }
   ],
   "source": [
    "from sklearn.pipeline import Pipeline\n",
    "\n",
    "dc_1 = pd.read_csv('data/dc_airbnb.csv')\n",
    "pipe = Pipeline(steps = [\n",
    "    ('clean_price', PriceCleaner())])\n",
    "\n",
    "dc1_clean = pipe.fit_transform(dc_1)\n",
    "dc1_clean.head()"
   ]
  },
  {
   "cell_type": "code",
   "execution_count": null,
   "metadata": {},
   "outputs": [],
   "source": []
  }
 ],
 "metadata": {
  "kernelspec": {
   "display_name": "Python 3",
   "language": "python",
   "name": "python3"
  },
  "language_info": {
   "codemirror_mode": {
    "name": "ipython",
    "version": 3
   },
   "file_extension": ".py",
   "mimetype": "text/x-python",
   "name": "python",
   "nbconvert_exporter": "python",
   "pygments_lexer": "ipython3",
   "version": "3.7.7"
  }
 },
 "nbformat": 4,
 "nbformat_minor": 4
}
